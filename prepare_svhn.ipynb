{
  "nbformat": 4,
  "nbformat_minor": 0,
  "metadata": {
    "colab": {
      "name": "prepare-svhn.ipynb",
      "version": "0.3.2",
      "provenance": [],
      "collapsed_sections": []
    },
    "kernelspec": {
      "display_name": "Python 2",
      "language": "python",
      "name": "python2"
    },
    "accelerator": "GPU"
  },
  "cells": [
    {
      "cell_type": "markdown",
      "metadata": {
        "id": "view-in-github",
        "colab_type": "text"
      },
      "source": [
        "[View in Colaboratory](https://colab.research.google.com/github/ozanpekmezci/capstone/blob/master/prepare_svhn.ipynb)"
      ]
    },
    {
      "metadata": {
        "id": "X1KKrUXkqrQK",
        "colab_type": "text"
      },
      "cell_type": "markdown",
      "source": [
        "# Prepare SVHN Dataset\n",
        "This notebook serves to download and preprocess SVHN data, which will be used by other notebooks to classify street numbers.\n",
        "## Download, Extraction & Preprocess SVHN Data\n"
      ]
    },
    {
      "metadata": {
        "id": "F0_IdGzKqrQL",
        "colab_type": "code",
        "colab": {}
      },
      "cell_type": "code",
      "source": [
        "# These are all the modules we'll be using later.\n",
        "from __future__ import print_function\n",
        "import numpy as np\n",
        "\n",
        "from six.moves import cPickle as pickle\n",
        "from six.moves import range\n",
        "\n",
        "import os\n",
        "import sys\n",
        "import tarfile\n",
        "from IPython.display import display, Image\n",
        "\n",
        "import h5py\n",
        "\n",
        "import matplotlib.pyplot as plt\n",
        "\n",
        "from PIL import Image\n",
        "import random\n",
        "from urllib import urlretrieve"
      ],
      "execution_count": 0,
      "outputs": []
    },
    {
      "metadata": {
        "id": "y77p5EHgqrQO",
        "colab_type": "code",
        "colab": {}
      },
      "cell_type": "code",
      "source": [
        "from collections import Counter"
      ],
      "execution_count": 0,
      "outputs": []
    },
    {
      "metadata": {
        "id": "rpiAi165qrQQ",
        "colab_type": "code",
        "colab": {}
      },
      "cell_type": "code",
      "source": [
        "%matplotlib inline"
      ],
      "execution_count": 0,
      "outputs": []
    },
    {
      "metadata": {
        "id": "l-UpOInoqrQT",
        "colab_type": "text"
      },
      "cell_type": "markdown",
      "source": [
        "### Download dataset "
      ]
    },
    {
      "metadata": {
        "id": "6NmELSFaqrQU",
        "colab_type": "code",
        "colab": {
          "base_uri": "https://localhost:8080/",
          "height": 153
        },
        "outputId": "c5d00cac-a110-477e-83fe-7d4af00e252b"
      },
      "cell_type": "code",
      "source": [
        "url = 'http://ufldl.stanford.edu/housenumbers/'\n",
        "last_percent_reported = None\n",
        "\n",
        "def download_progress_hook(count, blockSize, totalSize):\n",
        "    \"\"\"A hook to report the progress of a download. This is mostly intended for users with\n",
        "    slow internet connections. Reports every 1% change in download progress.\n",
        "    \"\"\"\n",
        "    global last_percent_reported\n",
        "    percent = int(count * blockSize * 100 / totalSize)\n",
        "\n",
        "    if last_percent_reported != percent:\n",
        "        if percent % 5 == 0:\n",
        "            sys.stdout.write(\"%s%%\" % percent)\n",
        "            sys.stdout.flush()\n",
        "        else:\n",
        "            sys.stdout.write(\".\")\n",
        "            sys.stdout.flush()\n",
        "\n",
        "        last_percent_reported = percent\n",
        "\n",
        "def maybe_download(filename, expected_bytes, force=False):\n",
        "    \"\"\"Download a file if not present, and make sure it's the right size.\"\"\"\n",
        "    if force or not os.path.exists(filename):\n",
        "        print('Attempting to download:', filename) \n",
        "        filename, _ = urlretrieve(url + filename, filename, reporthook=download_progress_hook)\n",
        "        print('\\nDownload Complete!')\n",
        "    statinfo = os.stat(filename)\n",
        "    if statinfo.st_size == expected_bytes:\n",
        "        print('Found and verified', filename)\n",
        "    else:\n",
        "        raise Exception(\n",
        "          'Failed to verify ' + filename + '. Can you get to it with a browser?')\n",
        "    return filename\n",
        "\n",
        "train_filename = maybe_download('train.tar.gz', 404141560 )\n",
        "test_filename = maybe_download('test.tar.gz', 276555967 )"
      ],
      "execution_count": 4,
      "outputs": [
        {
          "output_type": "stream",
          "text": [
            "Attempting to download: train.tar.gz\n",
            "0%....5%....10%....15%....20%....25%....30%....35%....40%....45%....50%....55%....60%....65%....70%....75%....80%....85%....90%....95%....100%\n",
            "Download Complete!\n",
            "Found and verified train.tar.gz\n",
            "Attempting to download: test.tar.gz\n",
            "0%....5%....10%....15%....20%....25%....30%....35%....40%....45%....50%....55%....60%....65%....70%....75%....80%....85%....90%....95%....100%\n",
            "Download Complete!\n",
            "Found and verified test.tar.gz\n"
          ],
          "name": "stdout"
        }
      ]
    },
    {
      "metadata": {
        "id": "0GlOWSy0qrQZ",
        "colab_type": "text"
      },
      "cell_type": "markdown",
      "source": [
        "### Extracting Data"
      ]
    },
    {
      "metadata": {
        "id": "XhgBHMITqrQa",
        "colab_type": "code",
        "colab": {
          "base_uri": "https://localhost:8080/",
          "height": 51
        },
        "outputId": "391788f1-91b9-488f-fa96-1fe70a8f4739"
      },
      "cell_type": "code",
      "source": [
        "num_classes = 10\n",
        "np.random.seed(133)\n",
        "\n",
        "train_filename = 'train.tar.gz'\n",
        "test_filename = 'test.tar.gz'\n",
        "# extra_filename = 'extra.tar.gz'\n",
        "\n",
        "def maybe_extract(filename, force=False):\n",
        "    root = os.path.splitext(os.path.splitext(filename)[0])[0]  # remove .tar.gz\n",
        "    if os.path.isdir(root) and not force:\n",
        "        # You may override by setting force=True.\n",
        "        print('%s already present - Skipping extraction of %s.' % (root, filename))\n",
        "    else:\n",
        "        print('Extracting data for %s. This may take a while. Please wait.' % root)\n",
        "        tar = tarfile.open(filename)\n",
        "        sys.stdout.flush()\n",
        "        tar.extractall()\n",
        "        tar.close()\n",
        "    if not os.path.exists(root+'/digitStruct.mat'):\n",
        "        print(\"digitStruct.mat is missing\")\n",
        "    return root + '/digitStruct.mat'\n",
        "  \n",
        "  \n",
        "train_folders = maybe_extract(train_filename)\n",
        "test_folders = maybe_extract(test_filename)"
      ],
      "execution_count": 5,
      "outputs": [
        {
          "output_type": "stream",
          "text": [
            "Extracting data for train. This may take a while. Please wait.\n",
            "Extracting data for test. This may take a while. Please wait.\n"
          ],
          "name": "stdout"
        }
      ]
    },
    {
      "metadata": {
        "id": "D_c1yYzfqrQe",
        "colab_type": "text"
      },
      "cell_type": "markdown",
      "source": [
        "### Read the dataset"
      ]
    },
    {
      "metadata": {
        "id": "o-LOYeO3qrQf",
        "colab_type": "code",
        "colab": {
          "base_uri": "https://localhost:8080/",
          "height": 34
        },
        "outputId": "e01e7b4e-cdc3-435d-f070-cec1f8eb0d98"
      },
      "cell_type": "code",
      "source": [
        "print(train_folders)"
      ],
      "execution_count": 6,
      "outputs": [
        {
          "output_type": "stream",
          "text": [
            "train/digitStruct.mat\n"
          ],
          "name": "stdout"
        }
      ]
    },
    {
      "metadata": {
        "id": "3Y6jCa_uqrQj",
        "colab_type": "code",
        "colab": {}
      },
      "cell_type": "code",
      "source": [
        "train_dataset = h5py.File(train_folders, \"r\")"
      ],
      "execution_count": 0,
      "outputs": []
    },
    {
      "metadata": {
        "id": "F4unaZV-qrQl",
        "colab_type": "code",
        "colab": {
          "base_uri": "https://localhost:8080/",
          "height": 51
        },
        "outputId": "4f1ac30f-64c2-49bf-a168-aa827bc18ede"
      },
      "cell_type": "code",
      "source": [
        "train_dataset[\"digitStruct\"].items()"
      ],
      "execution_count": 8,
      "outputs": [
        {
          "output_type": "execute_result",
          "data": {
            "text/plain": [
              "[(u'bbox', <HDF5 dataset \"bbox\": shape (33402, 1), type \"|O\">),\n",
              " (u'name', <HDF5 dataset \"name\": shape (33402, 1), type \"|O\">)]"
            ]
          },
          "metadata": {
            "tags": []
          },
          "execution_count": 8
        }
      ]
    },
    {
      "metadata": {
        "id": "Y-HRt7flqrQs",
        "colab_type": "code",
        "colab": {}
      },
      "cell_type": "code",
      "source": [
        "# The DigitStructFile is just a wrapper around the h5py data.  It basically references \n",
        "#    inf:              The input h5 matlab file\n",
        "#    digitStructName   The h5 ref to all the file names\n",
        "#    digitStructBbox   The h5 ref to all struc data\n",
        "class DigitStructFile:\n",
        "    def __init__(self, inf):\n",
        "        self.inf = h5py.File(inf, 'r')\n",
        "        self.digitStructName = self.inf['digitStruct']['name']\n",
        "        self.digitStructBbox = self.inf['digitStruct']['bbox']\n",
        "\n",
        "# getName returns the 'name' string for for the n(th) digitStruct. \n",
        "    def getName(self,n):\n",
        "        return ''.join([chr(c[0]) for c in self.inf[self.digitStructName[n][0]].value])\n",
        "\n",
        "# bboxHelper handles the coding difference when there is exactly one bbox or an array of bbox. \n",
        "    def bboxHelper(self,attr):\n",
        "        if (len(attr) > 1):\n",
        "            attr = [self.inf[attr.value[j].item()].value[0][0] for j in range(len(attr))]\n",
        "        else:\n",
        "            attr = [attr.value[0][0]]\n",
        "        return attr\n",
        "\n",
        "# getBbox returns a dict of data for the n(th) bbox. \n",
        "    def getBbox(self,n):\n",
        "        bbox = {}\n",
        "        bb = self.digitStructBbox[n].item()\n",
        "        bbox['height'] = self.bboxHelper(self.inf[bb][\"height\"])\n",
        "        bbox['label'] = self.bboxHelper(self.inf[bb][\"label\"])\n",
        "        bbox['left'] = self.bboxHelper(self.inf[bb][\"left\"])\n",
        "        bbox['top'] = self.bboxHelper(self.inf[bb][\"top\"])\n",
        "        bbox['width'] = self.bboxHelper(self.inf[bb][\"width\"])\n",
        "        return bbox\n",
        "\n",
        "    def getDigitStructure(self,n):\n",
        "        s = self.getBbox(n)\n",
        "        s['name']=self.getName(n)\n",
        "        return s\n",
        "\n",
        "# getAllDigitStructure returns all the digitStruct from the input file.     \n",
        "    def getAllDigitStructure(self):\n",
        "        return [self.getDigitStructure(i) for i in range(len(self.digitStructName))]\n",
        "\n",
        "# Return a restructured version of the dataset (one structure by boxed digit).\n",
        "#\n",
        "#   Return a list of such dicts :\n",
        "#      'filename' : filename of the samples\n",
        "#      'boxes' : list of such dicts (one by digit) :\n",
        "#          'label' : 1 to 9 corresponding digits. 10 for digit '0' in image.\n",
        "#          'left', 'top' : position of bounding box\n",
        "#          'width', 'height' : dimension of bounding box\n",
        "#\n",
        "# Note: We may turn this to a generator, if memory issues arise.\n",
        "    def getAllDigitStructure_ByDigit(self):\n",
        "        pictDat = self.getAllDigitStructure()\n",
        "        result = []\n",
        "        structCnt = 1\n",
        "        for i in range(len(pictDat)):\n",
        "            item = { 'filename' : pictDat[i][\"name\"] }\n",
        "            figures = []\n",
        "            for j in range(len(pictDat[i]['height'])):\n",
        "                figure = {}\n",
        "                figure['height'] = pictDat[i]['height'][j]\n",
        "                figure['label']  = pictDat[i]['label'][j]\n",
        "                figure['left']   = pictDat[i]['left'][j]\n",
        "                figure['top']    = pictDat[i]['top'][j]\n",
        "                figure['width']  = pictDat[i]['width'][j]\n",
        "                figures.append(figure)\n",
        "            structCnt = structCnt + 1\n",
        "            item['boxes'] = figures\n",
        "            result.append(item)\n",
        "        return result"
      ],
      "execution_count": 0,
      "outputs": []
    },
    {
      "metadata": {
        "id": "n23uJuEOqrQu",
        "colab_type": "code",
        "colab": {
          "base_uri": "https://localhost:8080/",
          "height": 34
        },
        "outputId": "1fbbbc6b-6453-4c53-913e-421a05cc23b4"
      },
      "cell_type": "code",
      "source": [
        "print(train_folders)\n",
        "train = DigitStructFile(train_folders)\n",
        "train_data = train.getAllDigitStructure_ByDigit()\n",
        "\n",
        "\n",
        "test = DigitStructFile(test_folders)\n",
        "test_data = test.getAllDigitStructure_ByDigit()"
      ],
      "execution_count": 10,
      "outputs": [
        {
          "output_type": "stream",
          "text": [
            "train/digitStruct.mat\n"
          ],
          "name": "stdout"
        }
      ]
    },
    {
      "metadata": {
        "id": "ySrR7a0MqrQx",
        "colab_type": "code",
        "colab": {
          "base_uri": "https://localhost:8080/",
          "height": 136
        },
        "outputId": "48de1de3-2299-4be0-fc16-0348437b1f84"
      },
      "cell_type": "code",
      "source": [
        "train_data[0]"
      ],
      "execution_count": 11,
      "outputs": [
        {
          "output_type": "execute_result",
          "data": {
            "text/plain": [
              "{'boxes': [{'height': 219.0,\n",
              "   'label': 1.0,\n",
              "   'left': 246.0,\n",
              "   'top': 77.0,\n",
              "   'width': 81.0},\n",
              "  {'height': 219.0, 'label': 9.0, 'left': 323.0, 'top': 81.0, 'width': 96.0}],\n",
              " 'filename': '1.png'}"
            ]
          },
          "metadata": {
            "tags": []
          },
          "execution_count": 11
        }
      ]
    },
    {
      "metadata": {
        "id": "SuQD3qk2qrQ2",
        "colab_type": "code",
        "colab": {}
      },
      "cell_type": "code",
      "source": [
        "# save digitStruct information \n",
        "pickle_file = 'multi_bbox_info.pickle'\n",
        "\n",
        "try:\n",
        "    f = open(pickle_file, 'wb')\n",
        "    save = {\n",
        "    'train_data': train_data,\n",
        "    'test_data': test_data,\n",
        "    }\n",
        "    pickle.dump(save, f, pickle.HIGHEST_PROTOCOL)\n",
        "    f.close()\n",
        "except Exception as e:\n",
        "    print('Unable to save data to', pickle_file, ':', e)\n",
        "    raise"
      ],
      "execution_count": 0,
      "outputs": []
    },
    {
      "metadata": {
        "id": "BfFzWFL4qrQ6",
        "colab_type": "code",
        "colab": {
          "base_uri": "https://localhost:8080/",
          "height": 51
        },
        "outputId": "b849db5f-6e50-4771-ca78-ae4fb50108b6"
      },
      "cell_type": "code",
      "source": [
        "pickle_file = 'multi_bbox_info.pickle'\n",
        "\n",
        "with open(pickle_file, 'rb') as f:\n",
        "    save = pickle.load(f)\n",
        "    train_data = save['train_data']\n",
        "    test_data = save['test_data']\n",
        "    del save\n",
        "    print('Training set', len(train_data))\n",
        "    print('Test set', len(test_data))"
      ],
      "execution_count": 13,
      "outputs": [
        {
          "output_type": "stream",
          "text": [
            "Training set 33402\n",
            "Test set 13068\n"
          ],
          "name": "stdout"
        }
      ]
    },
    {
      "metadata": {
        "id": "1eS3ywcIqrQ-",
        "colab_type": "text"
      },
      "cell_type": "markdown",
      "source": [
        "### Generate dataset"
      ]
    },
    {
      "metadata": {
        "id": "ge47cEKSqrQ-",
        "colab_type": "code",
        "colab": {}
      },
      "cell_type": "code",
      "source": [
        "class Dataset:\n",
        "    \"\"\"crop images and save them to numpy ndarray\"\"\"\n",
        "    \n",
        "    def __init__(self, digitStruct, folder):\n",
        "        self.digitStruct = digitStruct\n",
        "        self.folder = folder\n",
        "        \n",
        "    def setDataset(self):\n",
        "        self.dataset = np.ndarray(shape=(len(self.digitStruct), 64, 64), dtype='float32')\n",
        "        \n",
        "        # 5 labels, 0 represents none\n",
        "        self.labels = np.ones(shape=(len(self.digitStruct), 5), dtype='int') * 10 \n",
        "        \n",
        "    def getDataset(self):\n",
        "        \n",
        "        self.setDataset()\n",
        "        \n",
        "        for i in range(len(self.digitStruct)):\n",
        "\n",
        "            fin = os.path.join(self.folder, self.digitStruct[i]['filename'])\n",
        "            im = Image.open(fin)\n",
        "            \n",
        "            boxes = self.digitStruct[i]['boxes']\n",
        "            \n",
        "            if len(boxes) > 5:\n",
        "                print(fin, \"has more than 5 digits\")\n",
        "            else:\n",
        "                # get labels individually\n",
        "                # change SVHN zero to our format of zero\n",
        "                self.labels[i,0:len(boxes)] = [int(j['label']) if (int(j['label'])%10 != 0) else 0 for j in boxes]\n",
        "            \n",
        "            left = [j['left'] for j in boxes]\n",
        "            top = [j['top'] for j in boxes]\n",
        "            height = [j['height'] for j in boxes]\n",
        "            width = [j['width'] for j in boxes]\n",
        "            \n",
        "            box = self.img_box(im, left, top, height, width)\n",
        "\n",
        "            size = (64, 64)\n",
        "            region = im.crop(box).resize(size)\n",
        "            region = self.normalization(region)\n",
        "            self.dataset[i,:,:] = region[:,:]\n",
        "            \n",
        "        print('dataset:',self.dataset.shape)\n",
        "        print('labels:',self.labels.shape)\n",
        "        return self.dataset, self.labels\n",
        "        \n",
        "    def img_box(self, im, left, top, height, width):\n",
        "\n",
        "        im_left = min(left)\n",
        "        im_top = min(top)\n",
        "        im_height = max(top) + max(height) - im_top\n",
        "        im_width = max(left) + max(width) - im_left\n",
        "\n",
        "        im_top = im_top - im_height * 0.05 # a bit higher\n",
        "        im_left = im_left - im_width * 0.05 # a bit wider\n",
        "        im_bottom = min(im.size[1], im_top + im_height * 1.05)\n",
        "        im_right = min(im.size[0], im_left + im_width * 1.05)\n",
        "\n",
        "        return (im_left, im_top, im_right, im_bottom)\n",
        "\n",
        "\n",
        "    def normalization(self, img):\n",
        "        im = self.rgb2gray(img) # RGB to greyscale\n",
        "        mean = np.mean(im, dtype='float32')\n",
        "        std = np.std(im, dtype='float32', ddof=1)\n",
        "        return (im - mean) / std  \n",
        "    \n",
        "    def rgb2gray(self, img):\n",
        "        return np.dot(np.array(img, dtype='float32'), [0.299, 0.587, 0.114])"
      ],
      "execution_count": 0,
      "outputs": []
    },
    {
      "metadata": {
        "id": "t4dTBAQZqrRB",
        "colab_type": "text"
      },
      "cell_type": "markdown",
      "source": [
        "#### train dataset"
      ]
    },
    {
      "metadata": {
        "id": "gLBf1u_bH1Tw",
        "colab_type": "code",
        "colab": {
          "base_uri": "https://localhost:8080/",
          "height": 68
        },
        "outputId": "8088cae3-6914-4aef-ca62-7d5c48cc3125"
      },
      "cell_type": "code",
      "source": [
        "train_dataset = Dataset(train_data, 'train')\n",
        "train_dataset, train_labels = train_dataset.getDataset()"
      ],
      "execution_count": 15,
      "outputs": [
        {
          "output_type": "stream",
          "text": [
            "train/29930.png has more than 5 digits\n",
            "dataset: (33402, 64, 64)\n",
            "labels: (33402, 5)\n"
          ],
          "name": "stdout"
        }
      ]
    },
    {
      "metadata": {
        "id": "YfscbSrmqrRH",
        "colab_type": "code",
        "colab": {
          "base_uri": "https://localhost:8080/",
          "height": 285
        },
        "outputId": "38e677c2-1ea1-40ea-a725-82a009293d3d"
      },
      "cell_type": "code",
      "source": [
        "plt.imshow(train_dataset[29929,:,:])\n",
        "print(train_labels[29929])"
      ],
      "execution_count": 16,
      "outputs": [
        {
          "output_type": "stream",
          "text": [
            "[10 10 10 10 10]\n"
          ],
          "name": "stdout"
        },
        {
          "output_type": "display_data",
          "data": {
            "image/png": "[encoded data removed]",
            "text/plain": [
              "<matplotlib.figure.Figure at 0x7ff807874610>"
            ]
          },
          "metadata": {
            "tags": []
          }
        }
      ]
    },
    {
      "metadata": {
        "id": "HTIRQdvfqrRJ",
        "colab_type": "code",
        "colab": {}
      },
      "cell_type": "code",
      "source": [
        "train_dataset = np.delete(train_dataset, 29929, axis=0)\n",
        "train_labels = np.delete(train_labels, 29929, axis=0)"
      ],
      "execution_count": 0,
      "outputs": []
    },
    {
      "metadata": {
        "id": "UImACjFwqrRM",
        "colab_type": "code",
        "colab": {
          "base_uri": "https://localhost:8080/",
          "height": 51
        },
        "outputId": "1d0a8ecf-4a07-43c8-e8ad-631e7627ff8f"
      },
      "cell_type": "code",
      "source": [
        "print(train_dataset.shape)\n",
        "print(train_labels.shape)"
      ],
      "execution_count": 18,
      "outputs": [
        {
          "output_type": "stream",
          "text": [
            "(33401, 64, 64)\n",
            "(33401, 5)\n"
          ],
          "name": "stdout"
        }
      ]
    },
    {
      "metadata": {
        "id": "M2KOXS0HqrRS",
        "colab_type": "text"
      },
      "cell_type": "markdown",
      "source": [
        "#### Test dataset"
      ]
    },
    {
      "metadata": {
        "id": "2lT0Wb3kqrRT",
        "colab_type": "code",
        "colab": {
          "base_uri": "https://localhost:8080/",
          "height": 51
        },
        "outputId": "151c3ed8-efaa-4203-d7a7-0564faf91e4f"
      },
      "cell_type": "code",
      "source": [
        "test_dataset = Dataset(test_data, 'test')\n",
        "test_dataset, test_labels = test_dataset.getDataset()"
      ],
      "execution_count": 19,
      "outputs": [
        {
          "output_type": "stream",
          "text": [
            "dataset: (13068, 64, 64)\n",
            "labels: (13068, 5)\n"
          ],
          "name": "stdout"
        }
      ]
    },
    {
      "metadata": {
        "id": "sZ_MqgklqrRY",
        "colab_type": "text"
      },
      "cell_type": "markdown",
      "source": [
        "#### Validation Dataset"
      ]
    },
    {
      "metadata": {
        "id": "OCxMu6qLqrRZ",
        "colab_type": "code",
        "colab": {}
      },
      "cell_type": "code",
      "source": [
        "def randomize(dataset, labels):\n",
        "    permutation = np.random.permutation(labels.shape[0])\n",
        "    shuffled_dataset = dataset[permutation,:,:]\n",
        "    shuffled_labels = labels[permutation]\n",
        "    return shuffled_dataset, shuffled_labels\n",
        "train_dataset, train_labels = randomize(train_dataset, train_labels)\n",
        "test_dataset, test_labels = randomize(test_dataset, test_labels)"
      ],
      "execution_count": 0,
      "outputs": []
    },
    {
      "metadata": {
        "id": "iaT7srfiqrRd",
        "colab_type": "code",
        "colab": {
          "base_uri": "https://localhost:8080/",
          "height": 68
        },
        "outputId": "3795bfc4-14cb-4b64-8ff4-db5f8918b8ed"
      },
      "cell_type": "code",
      "source": [
        "train_portion = 6000\n",
        "valid_dataset = train_dataset[:train_portion,:,:]\n",
        "valid_labels = train_labels[:train_portion]\n",
        "train_dataset = train_dataset[train_portion:,:,:]\n",
        "train_labels = train_labels[train_portion:]\n",
        "                             \n",
        "print(train_dataset.shape, train_labels.shape)\n",
        "print(test_dataset.shape, test_labels.shape)\n",
        "print(valid_dataset.shape, valid_labels.shape)"
      ],
      "execution_count": 21,
      "outputs": [
        {
          "output_type": "stream",
          "text": [
            "(27401, 64, 64) (27401, 5)\n",
            "(13068, 64, 64) (13068, 5)\n",
            "(6000, 64, 64) (6000, 5)\n"
          ],
          "name": "stdout"
        }
      ]
    },
    {
      "metadata": {
        "id": "SN2HCmFIqrRf",
        "colab_type": "code",
        "colab": {}
      },
      "cell_type": "code",
      "source": [
        "def disp_sample_dataset(dataset, label):\n",
        "    items = random.sample(range(dataset.shape[0]), 8)\n",
        "    for i, item in enumerate(items):\n",
        "        plt.subplot(2, 4, i+1)\n",
        "        plt.axis('off')\n",
        "        plt.title(label[i][0:5])\n",
        "        plt.imshow(dataset[i,:,:])"
      ],
      "execution_count": 0,
      "outputs": []
    },
    {
      "metadata": {
        "id": "CUk-TYTKqrRh",
        "colab_type": "code",
        "colab": {
          "base_uri": "https://localhost:8080/",
          "height": 254
        },
        "outputId": "3f879738-6967-463e-a111-82169ff9c7db"
      },
      "cell_type": "code",
      "source": [
        "disp_sample_dataset(train_dataset, train_labels)"
      ],
      "execution_count": 23,
      "outputs": [
        {
          "output_type": "display_data",
          "data": {
            "image/png": "[encoded data removed]",
            "text/plain": [
              "<matplotlib.figure.Figure at 0x7ff80d890b50>"
            ]
          },
          "metadata": {
            "tags": []
          }
        }
      ]
    },
    {
      "metadata": {
        "id": "jLVLN1-lJ7Ji",
        "colab_type": "code",
        "colab": {
          "base_uri": "https://localhost:8080/",
          "height": 254
        },
        "outputId": "73e6eb85-8a5e-48c4-8cdc-a2444fede77a"
      },
      "cell_type": "code",
      "source": [
        "disp_sample_dataset(test_dataset, test_labels)"
      ],
      "execution_count": 24,
      "outputs": [
        {
          "output_type": "display_data",
          "data": {
            "image/png": "[encoded data removed]",
            "text/plain": [
              "<matplotlib.figure.Figure at 0x7ff80d890350>"
            ]
          },
          "metadata": {
            "tags": []
          }
        }
      ]
    },
    {
      "metadata": {
        "id": "4Td3_wu2qrRv",
        "colab_type": "code",
        "colab": {
          "base_uri": "https://localhost:8080/",
          "height": 254
        },
        "outputId": "5a90aee4-4c86-437f-c19f-daeed5449a86"
      },
      "cell_type": "code",
      "source": [
        "disp_sample_dataset(valid_dataset, valid_labels)"
      ],
      "execution_count": 25,
      "outputs": [
        {
          "output_type": "display_data",
          "data": {
            "image/png": "[encoded data removed]",
            "text/plain": [
              "<matplotlib.figure.Figure at 0x7ff808c0e410>"
            ]
          },
          "metadata": {
            "tags": []
          }
        }
      ]
    },
    {
      "metadata": {
        "id": "_oQp7HxtqrR5",
        "colab_type": "text"
      },
      "cell_type": "markdown",
      "source": [
        "### Save dataset"
      ]
    },
    {
      "metadata": {
        "id": "_LEr9Ba5qrR6",
        "colab_type": "code",
        "colab": {
          "base_uri": "https://localhost:8080/",
          "height": 34
        },
        "outputId": "ce22bdd9-05b2-4f31-fdd6-85c0ce213578"
      },
      "cell_type": "code",
      "source": [
        "pickle_file = 'SVHN_multi_crop.pickle'\n",
        "\n",
        "try:\n",
        "    f = open(pickle_file, 'wb')\n",
        "    save = {\n",
        "    'train_dataset': train_dataset,\n",
        "    'train_labels': train_labels,\n",
        "    'valid_dataset': valid_dataset,\n",
        "    'valid_labels': valid_labels,\n",
        "    'test_dataset': test_dataset,\n",
        "    'test_labels': test_labels,\n",
        "    }\n",
        "    pickle.dump(save, f, pickle.HIGHEST_PROTOCOL)\n",
        "    f.close()\n",
        "    print(\"Done\")\n",
        "except Exception as e:\n",
        "    print('Unable to save data to', pickle_file, ':', e)\n",
        "    raise"
      ],
      "execution_count": 26,
      "outputs": [
        {
          "output_type": "stream",
          "text": [
            "Done\n"
          ],
          "name": "stdout"
        }
      ]
    },
    {
      "metadata": {
        "id": "Fwt0FmSGqrR_",
        "colab_type": "code",
        "colab": {
          "base_uri": "https://localhost:8080/",
          "height": 34
        },
        "outputId": "cb90a87e-3c4d-41c3-bafd-01cac1fddb5d"
      },
      "cell_type": "code",
      "source": [
        "pickle_file = 'SVHN_multi_crop_64.pickle'\n",
        "\n",
        "try:\n",
        "    f = open(pickle_file, 'wb')\n",
        "    save = {\n",
        "    'train_dataset': train_dataset,\n",
        "    'train_labels': train_labels,\n",
        "    'valid_dataset': valid_dataset,\n",
        "    'valid_labels': valid_labels,\n",
        "    'test_dataset': test_dataset,\n",
        "    'test_labels': test_labels,\n",
        "    }\n",
        "    pickle.dump(save, f, pickle.HIGHEST_PROTOCOL)\n",
        "    f.close()\n",
        "    print(\"Done\")\n",
        "except Exception as e:\n",
        "    print('Unable to save data to', pickle_file, ':', e)\n",
        "    raise"
      ],
      "execution_count": 27,
      "outputs": [
        {
          "output_type": "stream",
          "text": [
            "Done\n"
          ],
          "name": "stdout"
        }
      ]
    },
    {
      "metadata": {
        "id": "zIVWl69DqrSD",
        "colab_type": "text"
      },
      "cell_type": "markdown",
      "source": [
        "### Explore"
      ]
    },
    {
      "metadata": {
        "id": "CYrPS9UtqrSD",
        "colab_type": "code",
        "colab": {
          "base_uri": "https://localhost:8080/",
          "height": 68
        },
        "outputId": "7d9e663f-566d-4f69-ecfc-179a6831b38e"
      },
      "cell_type": "code",
      "source": [
        "pickle_file = 'SVHN_multi_crop.pickle'\n",
        "\n",
        "with open(pickle_file, 'rb') as f:\n",
        "    save = pickle.load(f)\n",
        "    train_dataset = save['train_dataset']\n",
        "    train_labels = save['train_labels']\n",
        "    valid_dataset = save['valid_dataset']\n",
        "    valid_labels = save['valid_labels']\n",
        "    test_dataset = save['test_dataset']\n",
        "    test_labels = save['test_labels']\n",
        "    del save  # hint to help gc free up memory\n",
        "    print('Training set', train_dataset.shape, train_labels.shape)\n",
        "    print('Validation set', valid_dataset.shape, valid_labels.shape)\n",
        "    print('Test set', test_dataset.shape, test_labels.shape)"
      ],
      "execution_count": 28,
      "outputs": [
        {
          "output_type": "stream",
          "text": [
            "Training set (27401, 64, 64) (27401, 5)\n",
            "Validation set (6000, 64, 64) (6000, 5)\n",
            "Test set (13068, 64, 64) (13068, 5)\n"
          ],
          "name": "stdout"
        }
      ]
    },
    {
      "metadata": {
        "id": "9JTZ-tCeqrSH",
        "colab_type": "code",
        "colab": {}
      },
      "cell_type": "code",
      "source": [
        "train_num_length = Counter(train_labels[:,0])\n",
        "test_num_length = Counter(test_labels[:,0])\n",
        "valid_num_length = Counter(valid_labels[:,0])"
      ],
      "execution_count": 0,
      "outputs": []
    },
    {
      "metadata": {
        "id": "tFh_DJcqqrSJ",
        "colab_type": "code",
        "colab": {
          "base_uri": "https://localhost:8080/",
          "height": 176
        },
        "outputId": "280586e7-6723-453e-ef0d-309283ca44ce"
      },
      "cell_type": "code",
      "source": [
        "plt.figure()\n",
        "\n",
        "plt.subplot(251)\n",
        "plt.bar(train_num_length.keys(), train_num_length.values(), align='center')\n",
        "plt.xticks(train_num_length.keys())\n",
        "plt.title('Train')\n",
        "plt.xlabel('Length')\n",
        "\n",
        "plt.subplot(253)\n",
        "plt.bar(test_num_length.keys(), test_num_length.values(), align='center')\n",
        "plt.xticks(test_num_length.keys())\n",
        "plt.title('Test')\n",
        "plt.xlabel('Length')\n",
        "\n",
        "plt.subplot(255)\n",
        "plt.bar(valid_num_length.keys(), valid_num_length.values(), align='center')\n",
        "plt.xticks(test_num_length.keys())\n",
        "plt.title('Valid')\n",
        "plt.xlabel('Length')\n",
        "\n",
        "plt.show()"
      ],
      "execution_count": 30,
      "outputs": [
        {
          "output_type": "display_data",
          "data": {
            "image/png": "[encoded data removed]",
            "text/plain": [
              "<matplotlib.figure.Figure at 0x7ff8085f8490>"
            ]
          },
          "metadata": {
            "tags": []
          }
        }
      ]
    },
    {
      "metadata": {
        "id": "Hj3JO6PmqrSM",
        "colab_type": "code",
        "colab": {}
      },
      "cell_type": "code",
      "source": [
        "# Remove classes of empty labels\n",
        "train_digits = Counter(train_labels.flatten()[np.where(train_labels.flatten() != 10)])\n",
        "test_digits = Counter(test_labels.flatten()[np.where(test_labels.flatten() != 10)])\n",
        "valid_digits = Counter(valid_labels.flatten()[np.where(valid_labels.flatten() != 10)])"
      ],
      "execution_count": 0,
      "outputs": []
    },
    {
      "metadata": {
        "id": "ZSplz3jEqrSS",
        "colab_type": "code",
        "colab": {
          "base_uri": "https://localhost:8080/",
          "height": 349
        },
        "outputId": "7a199a9b-0aa3-441a-858c-fa74e3b97bd5"
      },
      "cell_type": "code",
      "source": [
        "f, (ax1, ax2, ax3) = plt.subplots(1, 3, figsize=(20, 5))\n",
        "\n",
        "ax1.bar(train_digits.keys(), train_digits.values(), align='center')\n",
        "ax1.set_xticks(train_digits.keys())\n",
        "ax1.set_title('Train')\n",
        "ax1.set_xlabel('Labels')\n",
        "\n",
        "ax2.bar(test_digits.keys(), test_digits.values(), align='center')\n",
        "ax2.set_xticks(test_digits.keys())\n",
        "ax2.set_title('Test')\n",
        "ax2.set_xlabel('Labels')\n",
        "\n",
        "ax3.bar(valid_digits.keys(), valid_digits.values(), align='center')\n",
        "ax3.set_xticks(valid_digits.keys())\n",
        "ax3.set_title('Validation')\n",
        "ax3.set_xlabel('Labels')\n",
        "\n",
        "plt.show()"
      ],
      "execution_count": 32,
      "outputs": [
        {
          "output_type": "display_data",
          "data": {
            "image/png": "[encoded data removed]",
            "text/plain": [
              "<matplotlib.figure.Figure at 0x7ff808f15750>"
            ]
          },
          "metadata": {
            "tags": []
          }
        }
      ]
    },
    {
      "metadata": {
        "id": "cQWdeeKBqrSV",
        "colab_type": "code",
        "colab": {}
      },
      "cell_type": "code",
      "source": [
        "train_size = 33402\n",
        "# valid_size = 6000\n",
        "test_size = 13068"
      ],
      "execution_count": 0,
      "outputs": []
    },
    {
      "metadata": {
        "id": "igZLG-E5qrSX",
        "colab_type": "code",
        "colab": {
          "base_uri": "https://localhost:8080/",
          "height": 34
        },
        "outputId": "2ca18c28-0ad7-46ce-b96d-25023a42d502"
      },
      "cell_type": "code",
      "source": [
        "# def count_size(path)\n",
        "train_height = []\n",
        "train_width = []\n",
        "for i in range(1, train_size):\n",
        "    image_name = str(i) + '.png'\n",
        "    fin = os.path.join('train',image_name)\n",
        "    im = Image.open(fin)\n",
        "    train_width.append(im.size[0])\n",
        "    train_height.append(im.size[1])\n",
        "print('Done')"
      ],
      "execution_count": 34,
      "outputs": [
        {
          "output_type": "stream",
          "text": [
            "Done\n"
          ],
          "name": "stdout"
        }
      ]
    },
    {
      "metadata": {
        "id": "WJGqGDdTqrSc",
        "colab_type": "code",
        "colab": {
          "base_uri": "https://localhost:8080/",
          "height": 153
        },
        "outputId": "0bd8e027-7e91-401a-ca68-db0ee6eacfce"
      },
      "cell_type": "code",
      "source": [
        "print(np.mean(train_height))\n",
        "print(np.mean(train_width))\n",
        "print(np.median(train_height))\n",
        "print(np.median(train_width))\n",
        "print(np.max(train_height))\n",
        "print(np.min(train_height))\n",
        "print(np.max(train_width))\n",
        "print(np.min(train_width))"
      ],
      "execution_count": 35,
      "outputs": [
        {
          "output_type": "stream",
          "text": [
            "57.21349660189815\n",
            "128.28544055567198\n",
            "47.0\n",
            "104.0\n",
            "501\n",
            "12\n",
            "876\n",
            "25\n"
          ],
          "name": "stdout"
        }
      ]
    },
    {
      "metadata": {
        "id": "bzt5bS8PqrSe",
        "colab_type": "code",
        "colab": {
          "base_uri": "https://localhost:8080/",
          "height": 34
        },
        "outputId": "93195871-3e87-4167-ab45-f8ad1a4a088e"
      },
      "cell_type": "code",
      "source": [
        "test_height = []\n",
        "test_width = []\n",
        "for i in range(1, test_size):\n",
        "    image_name = str(i) + '.png'\n",
        "    fin = os.path.join('test',image_name)\n",
        "    im = Image.open(fin)\n",
        "    test_width.append(im.size[0])\n",
        "    test_height.append(im.size[1])\n",
        "print('Done')"
      ],
      "execution_count": 36,
      "outputs": [
        {
          "output_type": "stream",
          "text": [
            "Done\n"
          ],
          "name": "stdout"
        }
      ]
    },
    {
      "metadata": {
        "id": "ekz1xAyZqrSh",
        "colab_type": "code",
        "colab": {
          "base_uri": "https://localhost:8080/",
          "height": 153
        },
        "outputId": "e5f07abf-b081-45d3-aa99-967ef4a1f4b4"
      },
      "cell_type": "code",
      "source": [
        "print(np.mean(test_height))\n",
        "print(np.mean(test_width))\n",
        "print(np.median(test_height))\n",
        "print(np.median(test_width))\n",
        "print(np.max(test_height))\n",
        "print(np.min(test_height))\n",
        "print(np.max(test_width))\n",
        "print(np.min(test_width))"
      ],
      "execution_count": 37,
      "outputs": [
        {
          "output_type": "stream",
          "text": [
            "71.56891405831485\n",
            "172.58972985383025\n",
            "53.0\n",
            "132.0\n",
            "516\n",
            "13\n",
            "1083\n",
            "31\n"
          ],
          "name": "stdout"
        }
      ]
    },
    {
      "metadata": {
        "id": "OKCDbjAhqrSk",
        "colab_type": "code",
        "colab": {
          "base_uri": "https://localhost:8080/",
          "height": 283
        },
        "outputId": "ef1fa9c4-1e5a-4879-c750-dd9677251d39"
      },
      "cell_type": "code",
      "source": [
        "from numpy.random import rand\n",
        "\n",
        "plt.xlim(xmax=1100,xmin=0)\n",
        "plt.ylim(ymax=600,ymin=0)\n",
        "plt.xlabel(\"width\")\n",
        "plt.ylabel(\"height\")\n",
        "\n",
        "\n",
        "path_1 = r'train'\n",
        "\n",
        "\n",
        "x = train_width\n",
        "y = train_height\n",
        "plt.plot(x,y,'ro',color='blue',label='train')\n",
        "\n",
        "path_2 = r'test'\n",
        "\n",
        "x = test_width\n",
        "y = test_height\n",
        "plt.plot(x,y,'ro',color='red',label='test')\n",
        "\n",
        "\n",
        "# legend\n",
        "plt.legend(loc='upper left', shadow=True, fontsize='x-large')\n",
        "plt.grid(True)\n",
        "\n",
        "# display data\n",
        "plt.show()"
      ],
      "execution_count": 38,
      "outputs": [
        {
          "output_type": "display_data",
          "data": {
            "image/png": "[encoded data removed]",
            "text/plain": [
              "<matplotlib.figure.Figure at 0x7ff808fe1310>"
            ]
          },
          "metadata": {
            "tags": []
          }
        }
      ]
    },
    {
      "metadata": {
        "id": "Y_WImLauR6aF",
        "colab_type": "text"
      },
      "cell_type": "markdown",
      "source": [
        "Source: https://ryannng.github.io/2016/12/20/Street-View-House-Numbers-Recognition-Using-ConvNets/"
      ]
    }
  ]
}