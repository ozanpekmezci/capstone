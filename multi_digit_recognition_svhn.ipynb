{
  "nbformat": 4,
  "nbformat_minor": 0,
  "metadata": {
    "colab": {
      "name": "multi-digit-recognition-svhn.ipynb",
      "version": "0.3.2",
      "provenance": [],
      "collapsed_sections": []
    },
    "kernelspec": {
      "name": "python2",
      "display_name": "Python 2"
    },
    "accelerator": "GPU"
  },
  "cells": [
    {
      "cell_type": "markdown",
      "metadata": {
        "id": "view-in-github",
        "colab_type": "text"
      },
      "source": [
        "[View in Colaboratory](https://colab.research.google.com/github/ozanpekmezci/capstone/blob/master/multi_digit_recognition_svhn.ipynb)"
      ]
    },
    {
      "metadata": {
        "id": "I1dsidLuUQ-l",
        "colab_type": "text"
      },
      "cell_type": "markdown",
      "source": [
        "# Multi Digit Number Recognition with SVHN\n",
        "\n",
        "This notebook implements multi digit number recognition using SVHN dataset that will be used to recognize house numbers at the streets. It can be considered as second version of the previous multi digit recognition which uses MNIST database. Keras and Tensorflow libraries are used to build the recognizer.\n",
        "This recognizer extracts digit from the image using Convolutional Neural Network Classifier."
      ]
    },
    {
      "metadata": {
        "id": "_QUuHcyyF5iq",
        "colab_type": "code",
        "colab": {}
      },
      "cell_type": "code",
      "source": [
        "# Module Imports\n",
        "from __future__ import print_function\n",
        "import random\n",
        "from os import listdir\n",
        "import glob\n",
        "\n",
        "import numpy as np\n",
        "from scipy import misc\n",
        "import tensorflow as tf\n",
        "import h5py\n",
        "\n",
        "from keras.datasets import mnist\n",
        "from keras.utils import np_utils\n",
        "\n",
        "from six.moves import cPickle as pickle\n",
        "from six.moves import range\n",
        "\n",
        "\n",
        "import matplotlib.pyplot as plt\n",
        "%matplotlib inline"
      ],
      "execution_count": 0,
      "outputs": []
    },
    {
      "metadata": {
        "id": "F_giURzYGjWO",
        "colab_type": "code",
        "colab": {}
      },
      "cell_type": "code",
      "source": [
        "# Setting the random seed so that the results are reproducible. \n",
        "random.seed(42)\n",
        "\n",
        "# Setting variables for MNIST image dimensions\n",
        "mnist_image_height = 28\n",
        "mnist_image_width = 28"
      ],
      "execution_count": 0,
      "outputs": []
    },
    {
      "metadata": {
        "id": "ifZinCXN3yk1",
        "colab_type": "text"
      },
      "cell_type": "markdown",
      "source": [
        "## Load Dataset"
      ]
    },
    {
      "metadata": {
        "id": "pKZMq9lA3x2P",
        "colab_type": "code",
        "colab": {
          "base_uri": "https://localhost:8080/",
          "height": 68
        },
        "outputId": "64c00039-62ad-422e-dddb-38e17ad11faf"
      },
      "cell_type": "code",
      "source": [
        "pickle_file = 'SVHN_multi_crop.pickle'\n",
        "\n",
        "with open(pickle_file, 'rb') as f:\n",
        "    save = pickle.load(f)\n",
        "    train_dataset = save['train_dataset']\n",
        "    train_labels = save['train_labels']\n",
        "    valid_dataset = save['valid_dataset']\n",
        "    valid_labels = save['valid_labels']\n",
        "    test_dataset = save['test_dataset']\n",
        "    test_labels = save['test_labels']\n",
        "    del save  # hint to help gc free up memory\n",
        "    print('Training set', train_dataset.shape, train_labels.shape)\n",
        "    print('Validation set', valid_dataset.shape, valid_labels.shape)\n",
        "    print('Test set', test_dataset.shape, test_labels.shape)"
      ],
      "execution_count": 21,
      "outputs": [
        {
          "output_type": "stream",
          "text": [
            "Training set (27401, 64, 64) (27401, 5)\n",
            "Validation set (6000, 64, 64) (6000, 5)\n",
            "Test set (13068, 64, 64) (13068, 5)\n"
          ],
          "name": "stdout"
        }
      ]
    },
    {
      "metadata": {
        "id": "UK68ofOrHnI1",
        "colab_type": "code",
        "colab": {
          "base_uri": "https://localhost:8080/",
          "height": 285
        },
        "outputId": "f3a4cdaf-5b72-411b-d65d-3b63944d9c7b"
      },
      "cell_type": "code",
      "source": [
        "plt.figure()\n",
        "plt.imshow(train_dataset[50], cmap='gray')\n",
        "\n",
        "print(\"Label for image: {}\".format(train_labels[50]))"
      ],
      "execution_count": 22,
      "outputs": [
        {
          "output_type": "stream",
          "text": [
            "Label for image: [ 7  5 10 10 10]\n"
          ],
          "name": "stdout"
        },
        {
          "output_type": "display_data",
          "data": {
            "image/png": "[encoded data removed]",
            "text/plain": [
              "<matplotlib.figure.Figure at 0x7f1520e1d550>"
            ]
          },
          "metadata": {
            "tags": []
          }
        }
      ]
    },
    {
      "metadata": {
        "id": "xOQpSYQNHKIu",
        "colab_type": "text"
      },
      "cell_type": "markdown",
      "source": [
        "## Convert Labels\n",
        "This function converts each digit label to one-hot array."
      ]
    },
    {
      "metadata": {
        "id": "slWvJtn2Kts1",
        "colab_type": "code",
        "colab": {}
      },
      "cell_type": "code",
      "source": [
        "# Converting labels to One-hot representations of shape (set_size, digits, classes)\n",
        "possible_classes = 11\n",
        "\n",
        "def convert_labels(labels):\n",
        "    \n",
        "    # As per Keras conventions, the multiple labels need to be of the form [array_digit1,...5]\n",
        "    # Each digit array will be of shape (60000,11)\n",
        "        \n",
        "    # Declare output ndarrays\n",
        "    # 5 for digits, 11 for possible classes  \n",
        "    dig0_arr = np.ndarray(shape=(len(labels),possible_classes))\n",
        "    dig1_arr = np.ndarray(shape=(len(labels),possible_classes))\n",
        "    dig2_arr = np.ndarray(shape=(len(labels),possible_classes))\n",
        "    dig3_arr = np.ndarray(shape=(len(labels),possible_classes))\n",
        "    dig4_arr = np.ndarray(shape=(len(labels),possible_classes))\n",
        "    \n",
        "    for index,label in enumerate(labels):\n",
        "        \n",
        "        # Using np_utils from keras to OHE the labels in the image\n",
        "        dig0_arr[index,:] = np_utils.to_categorical(label[0],possible_classes)\n",
        "        dig1_arr[index,:] = np_utils.to_categorical(label[1],possible_classes)\n",
        "        dig2_arr[index,:] = np_utils.to_categorical(label[2],possible_classes)\n",
        "        dig3_arr[index,:] = np_utils.to_categorical(label[3],possible_classes)\n",
        "        dig4_arr[index,:] = np_utils.to_categorical(label[4],possible_classes)\n",
        "        \n",
        "    return [dig0_arr,dig1_arr,dig2_arr,dig3_arr,dig4_arr]"
      ],
      "execution_count": 0,
      "outputs": []
    },
    {
      "metadata": {
        "id": "17m-itv9Lizo",
        "colab_type": "code",
        "colab": {}
      },
      "cell_type": "code",
      "source": [
        "train_labels = convert_labels(train_labels)\n",
        "test_labels = convert_labels(test_labels)"
      ],
      "execution_count": 0,
      "outputs": []
    },
    {
      "metadata": {
        "id": "NOjPwpQTLmAn",
        "colab_type": "code",
        "colab": {
          "base_uri": "https://localhost:8080/",
          "height": 34
        },
        "outputId": "c2b72d60-ef3b-4053-e5ec-685e8aa1bf79"
      },
      "cell_type": "code",
      "source": [
        "# Checking the shape of the OHE array for the first digit position\n",
        "np.shape(train_labels[0])"
      ],
      "execution_count": 24,
      "outputs": [
        {
          "output_type": "execute_result",
          "data": {
            "text/plain": [
              "(27401, 11)"
            ]
          },
          "metadata": {
            "tags": []
          },
          "execution_count": 24
        }
      ]
    },
    {
      "metadata": {
        "id": "Oe8PQKllIT2N",
        "colab_type": "text"
      },
      "cell_type": "markdown",
      "source": [
        "## Prepare Data for Keras\n",
        "Reshape image data to be processed by Keras."
      ]
    },
    {
      "metadata": {
        "id": "WTQg2PaWLzc0",
        "colab_type": "code",
        "colab": {}
      },
      "cell_type": "code",
      "source": [
        "def prep_data_keras(img_data):\n",
        "    \n",
        "    # Reshaping data for keras, with tensorflow as backend\n",
        "    img_data = img_data.reshape(len(img_data), 64, 64, 1)\n",
        "    \n",
        "    # Converting everything to floats\n",
        "    img_data = img_data.astype('float32')\n",
        "    \n",
        "    # Normalizing values between 0 and 1\n",
        "    img_data /= 255\n",
        "    \n",
        "    return img_data\n"
      ],
      "execution_count": 0,
      "outputs": []
    },
    {
      "metadata": {
        "id": "GHUhGAErL--5",
        "colab_type": "code",
        "colab": {}
      },
      "cell_type": "code",
      "source": [
        "train_images = prep_data_keras(train_dataset)\n",
        "test_images = prep_data_keras(test_dataset)"
      ],
      "execution_count": 0,
      "outputs": []
    },
    {
      "metadata": {
        "id": "D2p7Py9wMBGw",
        "colab_type": "code",
        "colab": {
          "base_uri": "https://localhost:8080/",
          "height": 34
        },
        "outputId": "61489d29-afea-4790-e4db-cfe4cf0b14c2"
      },
      "cell_type": "code",
      "source": [
        "np.shape(train_images)"
      ],
      "execution_count": 29,
      "outputs": [
        {
          "output_type": "execute_result",
          "data": {
            "text/plain": [
              "(27401, 64, 64, 1)"
            ]
          },
          "metadata": {
            "tags": []
          },
          "execution_count": 29
        }
      ]
    },
    {
      "metadata": {
        "id": "tyXraB2MMQvR",
        "colab_type": "code",
        "colab": {
          "base_uri": "https://localhost:8080/",
          "height": 34
        },
        "outputId": "75f711c5-9cf5-4171-b74b-593bac094c82"
      },
      "cell_type": "code",
      "source": [
        "np.shape(test_images)"
      ],
      "execution_count": 30,
      "outputs": [
        {
          "output_type": "execute_result",
          "data": {
            "text/plain": [
              "(13068, 64, 64, 1)"
            ]
          },
          "metadata": {
            "tags": []
          },
          "execution_count": 30
        }
      ]
    },
    {
      "metadata": {
        "id": "INF-j_J_MTi_",
        "colab_type": "code",
        "colab": {}
      },
      "cell_type": "code",
      "source": [
        "# Importing relevant keras modules\n",
        "from keras.models import Sequential, Model\n",
        "from keras.layers import Dense, Dropout, Activation, Flatten, Input\n",
        "from keras.layers import Convolution2D, MaxPooling2D"
      ],
      "execution_count": 0,
      "outputs": []
    },
    {
      "metadata": {
        "id": "sj66iuNtLfJu",
        "colab_type": "text"
      },
      "cell_type": "markdown",
      "source": [
        "## Build Model\n",
        "Build Deep Learning model to process data."
      ]
    },
    {
      "metadata": {
        "id": "ixTneFcAM_BN",
        "colab_type": "code",
        "colab": {
          "base_uri": "https://localhost:8080/",
          "height": 547
        },
        "outputId": "972f8fcf-907c-470f-daf3-ec349b7482c2"
      },
      "cell_type": "code",
      "source": [
        "# Building the model\n",
        "\n",
        "batch_size = 128\n",
        "nb_classes = 11\n",
        "nb_epoch = 12\n",
        "\n",
        "# image input dimensions\n",
        "img_rows = 64\n",
        "img_cols = 64\n",
        "img_channels = 1\n",
        "\n",
        "# number of convulation filters to use\n",
        "nb_filters = 32\n",
        "# size of pooling area for max pooling\n",
        "pool_size = (2, 2)\n",
        "# convolution kernel size\n",
        "kernel_size = (3, 3)\n",
        "\n",
        "# defining the input\n",
        "inputs = Input(shape=(img_rows, img_cols, img_channels))\n",
        "\n",
        "# Model taken from keras example.\n",
        "cov = Convolution2D(nb_filters,kernel_size[0],kernel_size[1],border_mode='same')(inputs)\n",
        "cov = Activation('relu')(cov)\n",
        "cov = Convolution2D(nb_filters,kernel_size[0],kernel_size[1])(cov)\n",
        "cov = Activation('relu')(cov)\n",
        "cov = MaxPooling2D(pool_size=pool_size)(cov)\n",
        "cov = Dropout(0.25)(cov)\n",
        "cov_out = Flatten()(cov)\n",
        "\n",
        "\n",
        "# Dense Layers\n",
        "cov2 = Dense(128, activation='relu')(cov_out)\n",
        "cov2 = Dropout(0.5)(cov2)\n",
        "\n",
        "\n",
        "\n",
        "# Prediction layers\n",
        "c0 = Dense(nb_classes, activation='softmax')(cov2)\n",
        "c1 = Dense(nb_classes, activation='softmax')(cov2)\n",
        "c2 = Dense(nb_classes, activation='softmax')(cov2)\n",
        "c3 = Dense(nb_classes, activation='softmax')(cov2)\n",
        "c4 = Dense(nb_classes, activation='softmax')(cov2)\n",
        "\n",
        "# Defining the model\n",
        "model = Model(input=inputs,output=[c0,c1,c2,c3,c4])\n",
        "\n",
        "# Compiling the model\n",
        "model.compile(loss='categorical_crossentropy',optimizer='adam',metrics=['accuracy'])\n",
        "\n",
        "# Fitting the model\n",
        "model.fit(train_images,train_labels,batch_size=batch_size,nb_epoch=nb_epoch,verbose=1,\n",
        "          validation_data=(test_images, test_labels))"
      ],
      "execution_count": 32,
      "outputs": [
        {
          "output_type": "stream",
          "text": [
            "/usr/local/lib/python2.7/dist-packages/ipykernel_launcher.py:22: UserWarning: Update your `Conv2D` call to the Keras 2 API: `Conv2D(32, (3, 3), padding=\"same\")`\n",
            "/usr/local/lib/python2.7/dist-packages/ipykernel_launcher.py:24: UserWarning: Update your `Conv2D` call to the Keras 2 API: `Conv2D(32, (3, 3))`\n",
            "/usr/local/lib/python2.7/dist-packages/ipykernel_launcher.py:45: UserWarning: Update your `Model` call to the Keras 2 API: `Model(outputs=[<tf.Tenso..., inputs=Tensor(\"in...)`\n",
            "/usr/local/lib/python2.7/dist-packages/ipykernel_launcher.py:52: UserWarning: The `nb_epoch` argument in `fit` has been renamed `epochs`.\n"
          ],
          "name": "stderr"
        },
        {
          "output_type": "stream",
          "text": [
            "Train on 27401 samples, validate on 13068 samples\n",
            "Epoch 1/12\n",
            "27401/27401 [==============================] - 20s 713us/step - loss: 6.2632 - dense_2_loss: 2.1755 - dense_3_loss: 2.3347 - dense_4_loss: 1.2991 - dense_5_loss: 0.3419 - dense_6_loss: 0.1120 - dense_2_acc: 0.2310 - dense_3_acc: 0.2088 - dense_4_acc: 0.7210 - dense_5_acc: 0.9574 - dense_6_acc: 0.9954 - val_loss: 4.9861 - val_dense_2_loss: 2.0040 - val_dense_3_loss: 2.1539 - val_dense_4_loss: 0.7513 - val_dense_5_loss: 0.0731 - val_dense_6_loss: 0.0039 - val_dense_2_acc: 0.2827 - val_dense_3_acc: 0.2971 - val_dense_4_acc: 0.8521 - val_dense_5_acc: 0.9909 - val_dense_6_acc: 0.9999\n",
            "Epoch 2/12\n",
            " 1664/27401 [>.............................] - ETA: 13s - loss: 5.8749 - dense_2_loss: 2.1054 - dense_3_loss: 2.2630 - dense_4_loss: 1.1866 - dense_5_loss: 0.2971 - dense_6_loss: 0.0228 - dense_2_acc: 0.2422 - dense_3_acc: 0.2404 - dense_4_acc: 0.7470 - dense_5_acc: 0.9597 - dense_6_acc: 1.0000"
          ],
          "name": "stdout"
        },
        {
          "output_type": "stream",
          "text": [
            "27401/27401 [==============================] - 16s 602us/step - loss: 5.7926 - dense_2_loss: 2.0638 - dense_3_loss: 2.2417 - dense_4_loss: 1.2085 - dense_5_loss: 0.2626 - dense_6_loss: 0.0160 - dense_2_acc: 0.2555 - dense_3_acc: 0.2488 - dense_4_acc: 0.7343 - dense_5_acc: 0.9632 - dense_6_acc: 0.9998 - val_loss: 5.0051 - val_dense_2_loss: 2.0029 - val_dense_3_loss: 2.1549 - val_dense_4_loss: 0.7658 - val_dense_5_loss: 0.0778 - val_dense_6_loss: 0.0036 - val_dense_2_acc: 0.2827 - val_dense_3_acc: 0.2971 - val_dense_4_acc: 0.8521 - val_dense_5_acc: 0.9909 - val_dense_6_acc: 0.9999\n",
            "Epoch 3/12\n",
            " 4352/27401 [===>..........................] - ETA: 12s - loss: 5.7347 - dense_2_loss: 2.0435 - dense_3_loss: 2.2481 - dense_4_loss: 1.1857 - dense_5_loss: 0.2473 - dense_6_loss: 0.0102 - dense_2_acc: 0.2682 - dense_3_acc: 0.2429 - dense_4_acc: 0.7387 - dense_5_acc: 0.9653 - dense_6_acc: 1.0000"
          ],
          "name": "stdout"
        },
        {
          "output_type": "stream",
          "text": [
            "27401/27401 [==============================] - 17s 603us/step - loss: 5.7291 - dense_2_loss: 2.0441 - dense_3_loss: 2.2231 - dense_4_loss: 1.1951 - dense_5_loss: 0.2567 - dense_6_loss: 0.0101 - dense_2_acc: 0.2704 - dense_3_acc: 0.2534 - dense_4_acc: 0.7343 - dense_5_acc: 0.9632 - dense_6_acc: 0.9998 - val_loss: 5.0945 - val_dense_2_loss: 2.0099 - val_dense_3_loss: 2.1602 - val_dense_4_loss: 0.8226 - val_dense_5_loss: 0.0963 - val_dense_6_loss: 0.0055 - val_dense_2_acc: 0.2827 - val_dense_3_acc: 0.2971 - val_dense_4_acc: 0.8521 - val_dense_5_acc: 0.9909 - val_dense_6_acc: 0.9999\n",
            "Epoch 4/12\n",
            " 5504/27401 [=====>........................] - ETA: 11s - loss: 5.6323 - dense_2_loss: 2.0627 - dense_3_loss: 2.2060 - dense_4_loss: 1.1500 - dense_5_loss: 0.2071 - dense_6_loss: 0.0065 - dense_2_acc: 0.2654 - dense_3_acc: 0.2573 - dense_4_acc: 0.7382 - dense_5_acc: 0.9695 - dense_6_acc: 0.9998"
          ],
          "name": "stdout"
        },
        {
          "output_type": "stream",
          "text": [
            "27401/27401 [==============================] - 16s 600us/step - loss: 5.5760 - dense_2_loss: 2.0439 - dense_3_loss: 2.1891 - dense_4_loss: 1.1049 - dense_5_loss: 0.2294 - dense_6_loss: 0.0087 - dense_2_acc: 0.2740 - dense_3_acc: 0.2534 - dense_4_acc: 0.7343 - dense_5_acc: 0.9632 - dense_6_acc: 0.9998 - val_loss: 4.7828 - val_dense_2_loss: 1.9982 - val_dense_3_loss: 2.0879 - val_dense_4_loss: 0.6337 - val_dense_5_loss: 0.0611 - val_dense_6_loss: 0.0020 - val_dense_2_acc: 0.2827 - val_dense_3_acc: 0.2971 - val_dense_4_acc: 0.8521 - val_dense_5_acc: 0.9909 - val_dense_6_acc: 0.9999\n",
            "Epoch 5/12\n",
            " 6400/27401 [======>.......................] - ETA: 11s - loss: 5.3763 - dense_2_loss: 2.0161 - dense_3_loss: 2.1421 - dense_4_loss: 1.0098 - dense_5_loss: 0.2017 - dense_6_loss: 0.0066 - dense_2_acc: 0.2822 - dense_3_acc: 0.2528 - dense_4_acc: 0.7344 - dense_5_acc: 0.9656 - dense_6_acc: 1.0000"
          ],
          "name": "stdout"
        },
        {
          "output_type": "stream",
          "text": [
            "27401/27401 [==============================] - 16s 601us/step - loss: 5.2826 - dense_2_loss: 1.9719 - dense_3_loss: 2.1199 - dense_4_loss: 0.9773 - dense_5_loss: 0.2057 - dense_6_loss: 0.0079 - dense_2_acc: 0.2992 - dense_3_acc: 0.2486 - dense_4_acc: 0.7343 - dense_5_acc: 0.9632 - dense_6_acc: 0.9998 - val_loss: 4.4588 - val_dense_2_loss: 1.8442 - val_dense_3_loss: 2.0121 - val_dense_4_loss: 0.5493 - val_dense_5_loss: 0.0522 - val_dense_6_loss: 9.1344e-04 - val_dense_2_acc: 0.3980 - val_dense_3_acc: 0.2916 - val_dense_4_acc: 0.8521 - val_dense_5_acc: 0.9909 - val_dense_6_acc: 0.9999\n",
            "Epoch 6/12\n",
            " 5632/27401 [=====>........................] - ETA: 11s - loss: 5.1251 - dense_2_loss: 1.8578 - dense_3_loss: 2.0870 - dense_4_loss: 0.9590 - dense_5_loss: 0.2137 - dense_6_loss: 0.0076 - dense_2_acc: 0.3635 - dense_3_acc: 0.2468 - dense_4_acc: 0.7237 - dense_5_acc: 0.9592 - dense_6_acc: 0.9998"
          ],
          "name": "stdout"
        },
        {
          "output_type": "stream",
          "text": [
            "27401/27401 [==============================] - 17s 604us/step - loss: 4.9214 - dense_2_loss: 1.7910 - dense_3_loss: 2.0200 - dense_4_loss: 0.9142 - dense_5_loss: 0.1895 - dense_6_loss: 0.0068 - dense_2_acc: 0.3883 - dense_3_acc: 0.2808 - dense_4_acc: 0.7345 - dense_5_acc: 0.9632 - dense_6_acc: 0.9998 - val_loss: 4.3645 - val_dense_2_loss: 1.6781 - val_dense_3_loss: 1.9076 - val_dense_4_loss: 0.6976 - val_dense_5_loss: 0.0780 - val_dense_6_loss: 0.0032 - val_dense_2_acc: 0.4408 - val_dense_3_acc: 0.3725 - val_dense_4_acc: 0.8521 - val_dense_5_acc: 0.9909 - val_dense_6_acc: 0.9999\n",
            "Epoch 7/12\n",
            " 6144/27401 [=====>........................] - ETA: 11s - loss: 4.7859 - dense_2_loss: 1.7315 - dense_3_loss: 1.9660 - dense_4_loss: 0.8918 - dense_5_loss: 0.1887 - dense_6_loss: 0.0079 - dense_2_acc: 0.4098 - dense_3_acc: 0.3086 - dense_4_acc: 0.7432 - dense_5_acc: 0.9634 - dense_6_acc: 0.9997"
          ],
          "name": "stdout"
        },
        {
          "output_type": "stream",
          "text": [
            "27401/27401 [==============================] - 17s 606us/step - loss: 4.6936 - dense_2_loss: 1.6822 - dense_3_loss: 1.9262 - dense_4_loss: 0.8930 - dense_5_loss: 0.1856 - dense_6_loss: 0.0066 - dense_2_acc: 0.4282 - dense_3_acc: 0.3221 - dense_4_acc: 0.7351 - dense_5_acc: 0.9632 - dense_6_acc: 0.9998 - val_loss: 3.8900 - val_dense_2_loss: 1.5633 - val_dense_3_loss: 1.7347 - val_dense_4_loss: 0.5379 - val_dense_5_loss: 0.0532 - val_dense_6_loss: 9.6880e-04 - val_dense_2_acc: 0.4917 - val_dense_3_acc: 0.4075 - val_dense_4_acc: 0.8522 - val_dense_5_acc: 0.9909 - val_dense_6_acc: 0.9999\n",
            "Epoch 8/12\n",
            " 5760/27401 [=====>........................] - ETA: 11s - loss: 4.5855 - dense_2_loss: 1.6405 - dense_3_loss: 1.8737 - dense_4_loss: 0.8798 - dense_5_loss: 0.1870 - dense_6_loss: 0.0046 - dense_2_acc: 0.4453 - dense_3_acc: 0.3385 - dense_4_acc: 0.7365 - dense_5_acc: 0.9628 - dense_6_acc: 1.0000"
          ],
          "name": "stdout"
        },
        {
          "output_type": "stream",
          "text": [
            "27401/27401 [==============================] - 17s 603us/step - loss: 4.5258 - dense_2_loss: 1.6107 - dense_3_loss: 1.8566 - dense_4_loss: 0.8722 - dense_5_loss: 0.1801 - dense_6_loss: 0.0062 - dense_2_acc: 0.4556 - dense_3_acc: 0.3521 - dense_4_acc: 0.7362 - dense_5_acc: 0.9632 - dense_6_acc: 0.9998 - val_loss: 3.7411 - val_dense_2_loss: 1.4976 - val_dense_3_loss: 1.6778 - val_dense_4_loss: 0.5118 - val_dense_5_loss: 0.0526 - val_dense_6_loss: 0.0013 - val_dense_2_acc: 0.5034 - val_dense_3_acc: 0.4327 - val_dense_4_acc: 0.8528 - val_dense_5_acc: 0.9909 - val_dense_6_acc: 0.9999\n",
            "Epoch 9/12\n",
            " 5888/27401 [=====>........................] - ETA: 11s - loss: 4.4012 - dense_2_loss: 1.5669 - dense_3_loss: 1.8264 - dense_4_loss: 0.8477 - dense_5_loss: 0.1558 - dense_6_loss: 0.0044 - dense_2_acc: 0.4594 - dense_3_acc: 0.3697 - dense_4_acc: 0.7395 - dense_5_acc: 0.9681 - dense_6_acc: 0.9998"
          ],
          "name": "stdout"
        },
        {
          "output_type": "stream",
          "text": [
            "27401/27401 [==============================] - 17s 602us/step - loss: 4.3941 - dense_2_loss: 1.5472 - dense_3_loss: 1.8076 - dense_4_loss: 0.8548 - dense_5_loss: 0.1783 - dense_6_loss: 0.0061 - dense_2_acc: 0.4720 - dense_3_acc: 0.3713 - dense_4_acc: 0.7378 - dense_5_acc: 0.9632 - dense_6_acc: 0.9998 - val_loss: 3.6350 - val_dense_2_loss: 1.4487 - val_dense_3_loss: 1.6184 - val_dense_4_loss: 0.5132 - val_dense_5_loss: 0.0536 - val_dense_6_loss: 0.0012 - val_dense_2_acc: 0.5116 - val_dense_3_acc: 0.4803 - val_dense_4_acc: 0.8533 - val_dense_5_acc: 0.9909 - val_dense_6_acc: 0.9999\n",
            "Epoch 10/12\n",
            " 5504/27401 [=====>........................] - ETA: 11s - loss: 4.3414 - dense_2_loss: 1.5233 - dense_3_loss: 1.7722 - dense_4_loss: 0.8568 - dense_5_loss: 0.1832 - dense_6_loss: 0.0060 - dense_2_acc: 0.4807 - dense_3_acc: 0.3866 - dense_4_acc: 0.7398 - dense_5_acc: 0.9617 - dense_6_acc: 1.0000"
          ],
          "name": "stdout"
        },
        {
          "output_type": "stream",
          "text": [
            "27401/27401 [==============================] - 17s 605us/step - loss: 4.2869 - dense_2_loss: 1.4975 - dense_3_loss: 1.7651 - dense_4_loss: 0.8399 - dense_5_loss: 0.1780 - dense_6_loss: 0.0065 - dense_2_acc: 0.4891 - dense_3_acc: 0.3863 - dense_4_acc: 0.7395 - dense_5_acc: 0.9631 - dense_6_acc: 0.9998 - val_loss: 3.5708 - val_dense_2_loss: 1.4178 - val_dense_3_loss: 1.5840 - val_dense_4_loss: 0.5141 - val_dense_5_loss: 0.0534 - val_dense_6_loss: 0.0014 - val_dense_2_acc: 0.5139 - val_dense_3_acc: 0.4859 - val_dense_4_acc: 0.8566 - val_dense_5_acc: 0.9909 - val_dense_6_acc: 0.9999\n",
            "Epoch 11/12\n",
            " 5888/27401 [=====>........................] - ETA: 11s - loss: 4.2517 - dense_2_loss: 1.4650 - dense_3_loss: 1.7501 - dense_4_loss: 0.8493 - dense_5_loss: 0.1801 - dense_6_loss: 0.0073 - dense_2_acc: 0.5032 - dense_3_acc: 0.3849 - dense_4_acc: 0.7364 - dense_5_acc: 0.9614 - dense_6_acc: 0.9998"
          ],
          "name": "stdout"
        },
        {
          "output_type": "stream",
          "text": [
            "27401/27401 [==============================] - 17s 605us/step - loss: 4.1830 - dense_2_loss: 1.4510 - dense_3_loss: 1.7250 - dense_4_loss: 0.8275 - dense_5_loss: 0.1731 - dense_6_loss: 0.0065 - dense_2_acc: 0.5056 - dense_3_acc: 0.4016 - dense_4_acc: 0.7440 - dense_5_acc: 0.9631 - dense_6_acc: 0.9998 - val_loss: 3.5565 - val_dense_2_loss: 1.3701 - val_dense_3_loss: 1.5775 - val_dense_4_loss: 0.5506 - val_dense_5_loss: 0.0569 - val_dense_6_loss: 0.0015 - val_dense_2_acc: 0.5438 - val_dense_3_acc: 0.5018 - val_dense_4_acc: 0.8567 - val_dense_5_acc: 0.9909 - val_dense_6_acc: 0.9999\n",
            "Epoch 12/12\n",
            " 5376/27401 [====>.........................] - ETA: 11s - loss: 4.1335 - dense_2_loss: 1.4121 - dense_3_loss: 1.7158 - dense_4_loss: 0.8099 - dense_5_loss: 0.1865 - dense_6_loss: 0.0091 - dense_2_acc: 0.5160 - dense_3_acc: 0.3966 - dense_4_acc: 0.7465 - dense_5_acc: 0.9578 - dense_6_acc: 0.9993"
          ],
          "name": "stdout"
        },
        {
          "output_type": "stream",
          "text": [
            "27401/27401 [==============================] - 17s 606us/step - loss: 4.0800 - dense_2_loss: 1.4007 - dense_3_loss: 1.6970 - dense_4_loss: 0.8080 - dense_5_loss: 0.1685 - dense_6_loss: 0.0059 - dense_2_acc: 0.5210 - dense_3_acc: 0.4076 - dense_4_acc: 0.7457 - dense_5_acc: 0.9632 - dense_6_acc: 0.9998 - val_loss: 3.3376 - val_dense_2_loss: 1.2956 - val_dense_3_loss: 1.5095 - val_dense_4_loss: 0.4811 - val_dense_5_loss: 0.0501 - val_dense_6_loss: 0.0014 - val_dense_2_acc: 0.5761 - val_dense_3_acc: 0.5126 - val_dense_4_acc: 0.8587 - val_dense_5_acc: 0.9909 - val_dense_6_acc: 0.9999\n"
          ],
          "name": "stdout"
        },
        {
          "output_type": "execute_result",
          "data": {
            "text/plain": [
              "<keras.callbacks.History at 0x7f1520ea3cd0>"
            ]
          },
          "metadata": {
            "tags": []
          },
          "execution_count": 32
        }
      ]
    },
    {
      "metadata": {
        "id": "w1gl0EeoPo6k",
        "colab_type": "code",
        "colab": {}
      },
      "cell_type": "code",
      "source": [
        "predictions = model.predict(test_images)"
      ],
      "execution_count": 0,
      "outputs": []
    },
    {
      "metadata": {
        "id": "ijyU9tJ3Psbr",
        "colab_type": "code",
        "colab": {
          "base_uri": "https://localhost:8080/",
          "height": 34
        },
        "outputId": "baf4e9e4-785a-4ff4-c513-de03adf8a72a"
      },
      "cell_type": "code",
      "source": [
        "np.shape(predictions)"
      ],
      "execution_count": 34,
      "outputs": [
        {
          "output_type": "execute_result",
          "data": {
            "text/plain": [
              "(5, 13068, 11)"
            ]
          },
          "metadata": {
            "tags": []
          },
          "execution_count": 34
        }
      ]
    },
    {
      "metadata": {
        "id": "vZ9WBF1yQRG3",
        "colab_type": "code",
        "colab": {
          "base_uri": "https://localhost:8080/",
          "height": 34
        },
        "outputId": "bcadaceb-96e0-4a2a-ece6-975fde5ac802"
      },
      "cell_type": "code",
      "source": [
        "len(predictions[0])"
      ],
      "execution_count": 35,
      "outputs": [
        {
          "output_type": "execute_result",
          "data": {
            "text/plain": [
              "13068"
            ]
          },
          "metadata": {
            "tags": []
          },
          "execution_count": 35
        }
      ]
    },
    {
      "metadata": {
        "id": "aYoCA76RQWRm",
        "colab_type": "code",
        "colab": {
          "base_uri": "https://localhost:8080/",
          "height": 34
        },
        "outputId": "df295b1d-24c4-4b1f-8662-9c37bc140d59"
      },
      "cell_type": "code",
      "source": [
        "np.shape(test_labels)"
      ],
      "execution_count": 36,
      "outputs": [
        {
          "output_type": "execute_result",
          "data": {
            "text/plain": [
              "(5, 13068, 11)"
            ]
          },
          "metadata": {
            "tags": []
          },
          "execution_count": 36
        }
      ]
    },
    {
      "metadata": {
        "id": "k8gkvmbWLoY1",
        "colab_type": "text"
      },
      "cell_type": "markdown",
      "source": [
        "## Calculate Accuracy\n",
        "Custom accuracy calculation for individual digits and the whole sequence."
      ]
    },
    {
      "metadata": {
        "id": "UHb7NM2sQZ3U",
        "colab_type": "code",
        "colab": {}
      },
      "cell_type": "code",
      "source": [
        "def calculate_acc(predictions,real_labels):\n",
        "    \n",
        "    individual_counter = 0\n",
        "    global_sequence_counter = 0\n",
        "    for i in range(0,len(predictions[0])):\n",
        "        # Reset sequence counter at the start of each image\n",
        "        sequence_counter = 0 \n",
        "        \n",
        "        for j in range(0,5):\n",
        "            if np.argmax(predictions[j][i]) == np.argmax(real_labels[j][i]):\n",
        "                individual_counter += 1\n",
        "                sequence_counter += 1\n",
        "        \n",
        "        if sequence_counter == 5:\n",
        "            global_sequence_counter += 1\n",
        "         \n",
        "    ind_accuracy = individual_counter/50000.0\n",
        "    global_accuracy = global_sequence_counter/10000.0\n",
        "    \n",
        "    return ind_accuracy,global_accuracy"
      ],
      "execution_count": 0,
      "outputs": []
    },
    {
      "metadata": {
        "id": "LZSUiAerQ7tq",
        "colab_type": "code",
        "colab": {}
      },
      "cell_type": "code",
      "source": [
        "ind_acc, glob_acc = calculate_acc(predictions, test_labels)"
      ],
      "execution_count": 0,
      "outputs": []
    },
    {
      "metadata": {
        "id": "_I57NhTmRu2P",
        "colab_type": "code",
        "colab": {
          "base_uri": "https://localhost:8080/",
          "height": 51
        },
        "outputId": "02bc0020-55c0-46da-c0ba-715dd6de784f"
      },
      "cell_type": "code",
      "source": [
        "print(\"The individual accuracy is {} %\".format(ind_acc * 100))\n",
        "print(\"The sequence prediction accuracy is {} %\".format(glob_acc * 100))"
      ],
      "execution_count": 0,
      "outputs": [
        {
          "output_type": "stream",
          "text": [
            "The individual accuracy is 98.24 %\n",
            "The sequence prediction accuracy is 91.77 %\n"
          ],
          "name": "stdout"
        }
      ]
    },
    {
      "metadata": {
        "id": "TI7q72qiR49W",
        "colab_type": "code",
        "colab": {
          "base_uri": "https://localhost:8080/",
          "height": 1527
        },
        "outputId": "297e4f65-5d6c-4f7c-8600-d5ab1f8e45f9"
      },
      "cell_type": "code",
      "source": [
        "# Printing some examples of real and predicted labels\n",
        "for i in random.sample(range(0,10000),5):\n",
        "    \n",
        "    actual_labels = []\n",
        "    predicted_labels = []\n",
        "    plt.figure()\n",
        "    plt.imshow(test_dataset[i])\n",
        "    for j in range(0,5):\n",
        "        actual_labels.append(np.argmax(test_labels[j][i]))\n",
        "        predicted_labels.append(np.argmax(predictions[j][i]))\n",
        "        \n",
        "    print(\"Actual labels: {}\".format(actual_labels))\n",
        "    print(\"Predicted labels: {}\\n\".format(predicted_labels))"
      ],
      "execution_count": 46,
      "outputs": [
        {
          "output_type": "stream",
          "text": [
            "Actual labels: [2, 4, 10, 10, 10]\n",
            "Predicted labels: [2, 4, 10, 10, 10]\n",
            "\n",
            "Actual labels: [1, 4, 1, 10, 10]\n",
            "Predicted labels: [1, 10, 10, 10, 10]\n",
            "\n",
            "Actual labels: [2, 6, 10, 10, 10]\n",
            "Predicted labels: [2, 8, 10, 10, 10]\n",
            "\n",
            "Actual labels: [2, 6, 6, 10, 10]\n",
            "Predicted labels: [2, 8, 10, 10, 10]\n",
            "\n",
            "Actual labels: [5, 2, 10, 10, 10]\n",
            "Predicted labels: [5, 2, 10, 10, 10]\n",
            "\n"
          ],
          "name": "stdout"
        },
        {
          "output_type": "display_data",
          "data": {
            "image/png": "[encoded data removed]",
            "text/plain": [
              "<matplotlib.figure.Figure at 0x7f151b40d510>"
            ]
          },
          "metadata": {
            "tags": []
          }
        },
        {
          "output_type": "display_data",
          "data": {
            "image/png": "[encoded data removed]",
            "text/plain": [
              "<matplotlib.figure.Figure at 0x7f1518d0fb90>"
            ]
          },
          "metadata": {
            "tags": []
          }
        },
        {
          "output_type": "display_data",
          "data": {
            "image/png": "[encoded data removed]",
            "text/plain": [
              "<matplotlib.figure.Figure at 0x7f1519186210>"
            ]
          },
          "metadata": {
            "tags": []
          }
        },
        {
          "output_type": "display_data",
          "data": {
            "image/png": "[encoded data removed]",
            "text/plain": [
              "<matplotlib.figure.Figure at 0x7f151917b850>"
            ]
          },
          "metadata": {
            "tags": []
          }
        },
        {
          "output_type": "display_data",
          "data": {
            "image/png": "[encoded data removed]",
            "text/plain": [
              "<matplotlib.figure.Figure at 0x7f15191c4bd0>"
            ]
          },
          "metadata": {
            "tags": []
          }
        }
      ]
    },
    {
      "metadata": {
        "id": "6BAwhIZqSZG8",
        "colab_type": "text"
      },
      "cell_type": "markdown",
      "source": [
        "Source: https://sajalsharma.com/portfolio/digit_sequence_recognition"
      ]
    }
  ]
}