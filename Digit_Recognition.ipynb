{
  "nbformat": 4,
  "nbformat_minor": 0,
  "metadata": {
    "colab": {
      "name": "Digit-Recognition.ipynb",
      "version": "0.3.2",
      "provenance": [],
      "collapsed_sections": [],
      "include_colab_link": true
    },
    "kernelspec": {
      "display_name": "Python 2",
      "language": "python",
      "name": "python2"
    },
    "accelerator": "GPU"
  },
  "cells": [
    {
      "cell_type": "markdown",
      "metadata": {
        "id": "view-in-github",
        "colab_type": "text"
      },
      "source": [
        "[View in Colaboratory](https://colab.research.google.com/github/ozanpekmezci/capstone/blob/master/Digit_Recognition.ipynb)"
      ]
    },
    {
      "metadata": {
        "id": "qgTMK5SZU4ht",
        "colab_type": "text"
      },
      "cell_type": "markdown",
      "source": [
        "# Recognition of Digits from Images\n",
        "This notebook serves as the first step of the project that recognizes house numbers from live camera image. In this first step, MNIST database is used."
      ]
    },
    {
      "metadata": {
        "id": "QIcyF32qGHEo",
        "colab_type": "text"
      },
      "cell_type": "markdown",
      "source": [
        "## VIsualise Data\n",
        "This function visualises data to check the algorithm gets."
      ]
    },
    {
      "metadata": {
        "id": "ThGIKCoCQFaT",
        "colab_type": "code",
        "colab": {}
      },
      "cell_type": "code",
      "source": [
        "import matplotlib.pyplot as plt\n",
        "from collections import Counter\n",
        "%matplotlib inline\n",
        "\n",
        "def visualize(train, test):\n",
        "\n",
        "  train_digits = Counter(train.flatten())\n",
        "  test_digits = Counter(test.flatten())\n",
        "\n",
        "  f, (ax1, ax2) = plt.subplots(1, 2, figsize=(20, 5))\n",
        "\n",
        "  ax1.bar(train_digits.keys(), train_digits.values(), align='center')\n",
        "  ax1.set_xticks(train_digits.keys())\n",
        "  ax1.set_title('Train')\n",
        "  ax1.set_xlabel('Labels')\n",
        "\n",
        "  ax2.bar(test_digits.keys(), test_digits.values(), align='center')\n",
        "  ax2.set_xticks(test_digits.keys())\n",
        "  ax2.set_title('Test')\n",
        "  ax2.set_xlabel('Labels')\n",
        "\n",
        "  plt.show()\n"
      ],
      "execution_count": 0,
      "outputs": []
    },
    {
      "metadata": {
        "id": "fyeKS8P-GeCG",
        "colab_type": "text"
      },
      "cell_type": "markdown",
      "source": [
        "## Build Model\n",
        "Build and train model to calculate accuracy."
      ]
    },
    {
      "metadata": {
        "id": "D-OzogGeU4hu",
        "colab_type": "code",
        "colab": {
          "base_uri": "https://localhost:8080/",
          "height": 959
        },
        "outputId": "5fe7e5c6-d062-454b-a062-6836de4681a5"
      },
      "cell_type": "code",
      "source": [
        "\n",
        "from __future__ import print_function\n",
        "import keras\n",
        "from keras.datasets import mnist\n",
        "from keras.models import Sequential\n",
        "from keras.layers import Dense, Dropout, Flatten\n",
        "from keras.layers import Conv2D, MaxPooling2D\n",
        "from keras import backend as K\n",
        "\n",
        "batch_size = 128\n",
        "num_classes = 10\n",
        "epochs = 12\n",
        "\n",
        "# input image dimensions\n",
        "img_rows, img_cols = 28, 28\n",
        "\n",
        "# the data, split between train and test sets\n",
        "(x_train, y_train), (x_test, y_test) = mnist.load_data()\n",
        "\n",
        "if K.image_data_format() == 'channels_first':\n",
        "    x_train = x_train.reshape(x_train.shape[0], 1, img_rows, img_cols)\n",
        "    x_test = x_test.reshape(x_test.shape[0], 1, img_rows, img_cols)\n",
        "    input_shape = (1, img_rows, img_cols)\n",
        "else:\n",
        "    x_train = x_train.reshape(x_train.shape[0], img_rows, img_cols, 1)\n",
        "    x_test = x_test.reshape(x_test.shape[0], img_rows, img_cols, 1)\n",
        "    input_shape = (img_rows, img_cols, 1)\n",
        "\n",
        "x_train = x_train.astype('float32')\n",
        "x_test = x_test.astype('float32')\n",
        "x_train /= 255\n",
        "x_test /= 255\n",
        "print('x_train shape:', x_train.shape)\n",
        "print(x_train.shape[0], 'train samples')\n",
        "print(x_test.shape[0], 'test samples')\n",
        "\n",
        "visualize(y_train, y_test)\n",
        "\n",
        "# convert class vectors to binary class matrices\n",
        "y_train = keras.utils.to_categorical(y_train, num_classes)\n",
        "y_test = keras.utils.to_categorical(y_test, num_classes)\n",
        "\n",
        "model = Sequential()\n",
        "model.add(Conv2D(32, kernel_size=(3, 3),\n",
        "                 activation='relu',\n",
        "                 input_shape=input_shape, padding='same'))\n",
        "model.add(Conv2D(64, (3, 3), activation='relu', padding='same'))\n",
        "model.add(MaxPooling2D(pool_size=(2, 2)))\n",
        "model.add(Dropout(0.25))\n",
        "model.add(Flatten())\n",
        "model.add(Dense(128, activation='relu'))\n",
        "model.add(Dropout(0.5))\n",
        "model.add(Dense(num_classes, activation='softmax'))\n",
        "\n",
        "model.compile(loss='categorical_crossentropy',optimizer='adam',\n",
        "              metrics=['accuracy'])\n",
        "\n",
        "model.fit(x_train, y_train,\n",
        "          batch_size=batch_size,\n",
        "          epochs=epochs,\n",
        "          verbose=1,\n",
        "          validation_data=(x_test, y_test))\n",
        "score = model.evaluate(x_test, y_test, verbose=0)\n",
        "print('Test loss:', score[0])\n",
        "print('Test accuracy:', score[1])"
      ],
      "execution_count": 2,
      "outputs": [
        {
          "output_type": "stream",
          "text": [
            "Using TensorFlow backend.\n"
          ],
          "name": "stderr"
        },
        {
          "output_type": "stream",
          "text": [
            "Downloading data from https://s3.amazonaws.com/img-datasets/mnist.npz\n",
            "11493376/11490434 [==============================] - 0s 0us/step\n",
            "11501568/11490434 [==============================] - 0s 0us/step\n",
            "x_train shape: (60000, 28, 28, 1)\n",
            "60000 train samples\n",
            "10000 test samples\n"
          ],
          "name": "stdout"
        },
        {
          "output_type": "display_data",
          "data": {
            "image/png": "[encoded data removed]",
            "text/plain": [
              "<matplotlib.figure.Figure at 0x7f6f3056ff10>"
            ]
          },
          "metadata": {
            "tags": []
          }
        },
        {
          "output_type": "stream",
          "text": [
            "Train on 60000 samples, validate on 10000 samples\n",
            "Epoch 1/12\n",
            "60000/60000 [==============================] - 13s 217us/step - loss: 0.2400 - acc: 0.9274 - val_loss: 0.0556 - val_acc: 0.9821\n",
            "Epoch 2/12\n",
            "60000/60000 [==============================] - 11s 180us/step - loss: 0.0852 - acc: 0.9750 - val_loss: 0.0373 - val_acc: 0.9878\n",
            "Epoch 3/12\n",
            "26240/60000 [============>.................] - ETA: 5s - loss: 0.0648 - acc: 0.9802"
          ],
          "name": "stdout"
        },
        {
          "output_type": "stream",
          "text": [
            "60000/60000 [==============================] - 11s 180us/step - loss: 0.0660 - acc: 0.9800 - val_loss: 0.0316 - val_acc: 0.9890\n",
            "Epoch 4/12\n",
            "60000/60000 [==============================] - 11s 180us/step - loss: 0.0514 - acc: 0.9842 - val_loss: 0.0317 - val_acc: 0.9906\n",
            "Epoch 5/12\n",
            "57600/60000 [===========================>..] - ETA: 0s - loss: 0.0434 - acc: 0.9861"
          ],
          "name": "stdout"
        },
        {
          "output_type": "stream",
          "text": [
            "60000/60000 [==============================] - 11s 179us/step - loss: 0.0441 - acc: 0.9859 - val_loss: 0.0332 - val_acc: 0.9880\n",
            "Epoch 6/12\n",
            "60000/60000 [==============================] - 11s 179us/step - loss: 0.0404 - acc: 0.9873 - val_loss: 0.0276 - val_acc: 0.9902\n",
            "Epoch 7/12\n",
            "60000/60000 [==============================] - 11s 180us/step - loss: 0.0343 - acc: 0.9891 - val_loss: 0.0289 - val_acc: 0.9918\n",
            "Epoch 8/12\n"
          ],
          "name": "stdout"
        },
        {
          "output_type": "stream",
          "text": [
            "60000/60000 [==============================] - 11s 180us/step - loss: 0.0285 - acc: 0.9912 - val_loss: 0.0351 - val_acc: 0.9904\n",
            "Epoch 9/12\n",
            "60000/60000 [==============================] - 11s 179us/step - loss: 0.0295 - acc: 0.9901 - val_loss: 0.0302 - val_acc: 0.9908\n",
            "Epoch 10/12\n",
            "52992/60000 [=========================>....] - ETA: 1s - loss: 0.0235 - acc: 0.9918"
          ],
          "name": "stdout"
        },
        {
          "output_type": "stream",
          "text": [
            "60000/60000 [==============================] - 11s 180us/step - loss: 0.0238 - acc: 0.9918 - val_loss: 0.0275 - val_acc: 0.9920\n",
            "Epoch 11/12\n",
            "60000/60000 [==============================] - 11s 180us/step - loss: 0.0227 - acc: 0.9927 - val_loss: 0.0260 - val_acc: 0.9927\n",
            "Epoch 12/12\n",
            "60000/60000 [==============================] - 11s 179us/step - loss: 0.0221 - acc: 0.9931 - val_loss: 0.0266 - val_acc: 0.9927\n",
            "Test loss: 0.026562212311050326\n",
            "Test accuracy: 0.9927\n"
          ],
          "name": "stdout"
        }
      ]
    },
    {
      "metadata": {
        "id": "yZuxyt_JGqsA",
        "colab_type": "text"
      },
      "cell_type": "markdown",
      "source": [
        "## Upload file\n",
        "Adds ability to upload images to Google Colab for predicting images manually."
      ]
    },
    {
      "metadata": {
        "id": "YbIkl_TNU4hx",
        "colab_type": "code",
        "colab": {
          "base_uri": "https://localhost:8080/",
          "height": 86
        },
        "outputId": "e408fb39-c58b-468f-cf5c-e8120d81dd4c"
      },
      "cell_type": "code",
      "source": [
        "from google.colab import files\n",
        "uploaded = files.upload()\n",
        "for fn in uploaded.keys():\n",
        "    print('User uploaded file \"{name}\" with length {length} bytes'.format(name=fn, length=len(uploaded[fn])))"
      ],
      "execution_count": 5,
      "outputs": [
        {
          "output_type": "display_data",
          "data": {
            "text/plain": [
              "<IPython.core.display.HTML object>"
            ],
            "text/html": [
              "\n",
              "     <input type=\"file\" id=\"files-1fef9970-28b1-4aff-8ff4-a27e1d88ad07\" name=\"files[]\" multiple disabled />\n",
              "     <output id=\"result-1fef9970-28b1-4aff-8ff4-a27e1d88ad07\">\n",
              "      Upload widget is only available when the cell has been executed in the\n",
              "      current browser session. Please rerun this cell to enable.\n",
              "      </output>\n",
              "      <script src=\"/nbextensions/google.colab/files.js\"></script> "
            ]
          },
          "metadata": {
            "tags": []
          }
        },
        {
          "output_type": "stream",
          "text": [
            "Saving 1.png to 1.png\n",
            "User uploaded file \"1.png\" with length 4861 bytes\n"
          ],
          "name": "stdout"
        }
      ]
    },
    {
      "metadata": {
        "id": "R79TgLqucYM6",
        "colab_type": "code",
        "colab": {
          "base_uri": "https://localhost:8080/",
          "height": 34
        },
        "outputId": "70df10ec-e720-4acd-e195-4c2570540194"
      },
      "cell_type": "code",
      "source": [
        "import cv2\n",
        "import numpy\n",
        "img = cv2.imread('1.png')\n",
        "img_gray = cv2.cvtColor(img, cv2.COLOR_BGR2GRAY)\n",
        "img_gray = cv2.resize(img_gray, (img_cols, img_rows))\n",
        "arr = numpy.array(img_gray).reshape((img_cols,img_rows,1))\n",
        "arr = numpy.expand_dims(arr, axis=0)\n",
        "prediction = model.predict(arr)\n",
        "print(prediction)"
      ],
      "execution_count": 7,
      "outputs": [
        {
          "output_type": "stream",
          "text": [
            "[[1. 0. 0. 0. 0. 0. 0. 0. 0. 0.]]\n"
          ],
          "name": "stdout"
        }
      ]
    }
  ]
}