{
  "nbformat": 4,
  "nbformat_minor": 0,
  "metadata": {
    "colab": {
      "name": "multi-digit-recognition.ipynb",
      "version": "0.3.2",
      "provenance": [],
      "collapsed_sections": [],
      "include_colab_link": true
    },
    "kernelspec": {
      "name": "python2",
      "display_name": "Python 2"
    },
    "accelerator": "GPU"
  },
  "cells": [
    {
      "cell_type": "markdown",
      "metadata": {
        "id": "view-in-github",
        "colab_type": "text"
      },
      "source": [
        "[View in Colaboratory](https://colab.research.google.com/github/ozanpekmezci/capstone/blob/master/multi_digit_recognition.ipynb)"
      ]
    },
    {
      "metadata": {
        "id": "I1dsidLuUQ-l",
        "colab_type": "text"
      },
      "cell_type": "markdown",
      "source": [
        "# Multi Digit Number Recognition\n",
        "\n",
        "This project implements multi digit number recognition that will be used to recognize house numbers at the streets. Keras and Tensorflow libraries are used to build the recognizer.\n",
        "This recognizer extracts digit from the image using Convolutional Neural Network Classifier."
      ]
    },
    {
      "metadata": {
        "id": "_QUuHcyyF5iq",
        "colab_type": "code",
        "colab": {
          "base_uri": "https://localhost:8080/",
          "height": 34
        },
        "outputId": "b686bf9c-5474-42ed-fdc1-e4c8c0302878"
      },
      "cell_type": "code",
      "source": [
        "# Module Imports\n",
        "from __future__ import print_function\n",
        "import random\n",
        "from os import listdir\n",
        "import glob\n",
        "\n",
        "import numpy as np\n",
        "from scipy import misc\n",
        "import tensorflow as tf\n",
        "import h5py\n",
        "\n",
        "from keras.datasets import mnist\n",
        "from keras.utils import np_utils\n",
        "\n",
        "import matplotlib.pyplot as plt\n",
        "%matplotlib inline"
      ],
      "execution_count": 2,
      "outputs": [
        {
          "output_type": "stream",
          "text": [
            "Using TensorFlow backend.\n"
          ],
          "name": "stderr"
        }
      ]
    },
    {
      "metadata": {
        "id": "F_giURzYGjWO",
        "colab_type": "code",
        "colab": {}
      },
      "cell_type": "code",
      "source": [
        "# Setting the random seed so that the results are reproducible. \n",
        "random.seed(42)\n",
        "\n",
        "# Setting variables for MNIST image dimensions\n",
        "mnist_image_height = 28\n",
        "mnist_image_width = 28"
      ],
      "execution_count": 0,
      "outputs": []
    },
    {
      "metadata": {
        "id": "bI8G9CDQG5xi",
        "colab_type": "code",
        "colab": {
          "base_uri": "https://localhost:8080/",
          "height": 68
        },
        "outputId": "c731cc6d-5ff2-456d-b855-d0c7c6e097b3"
      },
      "cell_type": "code",
      "source": [
        "# Import MNIST data from keras\n",
        "(X_train, y_train), (X_test, y_test) = mnist.load_data()"
      ],
      "execution_count": 4,
      "outputs": [
        {
          "output_type": "stream",
          "text": [
            "Downloading data from https://s3.amazonaws.com/img-datasets/mnist.npz\n",
            "11493376/11490434 [==============================] - 3s 0us/step\n",
            "11501568/11490434 [==============================] - 3s 0us/step\n"
          ],
          "name": "stdout"
        }
      ]
    },
    {
      "metadata": {
        "id": "UK68ofOrHnI1",
        "colab_type": "code",
        "colab": {
          "base_uri": "https://localhost:8080/",
          "height": 316
        },
        "outputId": "72c149d3-6f7b-4f14-9cff-f507db15d6d3"
      },
      "cell_type": "code",
      "source": [
        "#Checking the downloaded data\n",
        "print(\"Shape of training dataset: {}\".format(np.shape(X_train)))\n",
        "print(\"Shape of test dataset: {}\".format(np.shape(X_test)))\n",
        "\n",
        "\n",
        "plt.figure()\n",
        "plt.imshow(X_train[0], cmap='gray')\n",
        "\n",
        "print(\"Label for image: {}\".format(y_train[0]))"
      ],
      "execution_count": 5,
      "outputs": [
        {
          "output_type": "stream",
          "text": [
            "Shape of training dataset: (60000, 28, 28)\n",
            "Shape of test dataset: (10000, 28, 28)\n",
            "Label for image: 5\n"
          ],
          "name": "stdout"
        },
        {
          "output_type": "display_data",
          "data": {
            "image/png": "[encoded data removed]",
            "text/plain": [
              "<matplotlib.figure.Figure at 0x7f2bb6f2a410>"
            ]
          },
          "metadata": {
            "tags": []
          }
        }
      ]
    },
    {
      "metadata": {
        "id": "03bKktXm-lRl",
        "colab_type": "text"
      },
      "cell_type": "markdown",
      "source": [
        "## Building a new dataset\n",
        "This method builds a new synthetic dataset that stitches multiple digits together. Labels and data can contain numbers from 0 to 9 including the blank character for shorter house numbers. The length is preset to be always 5."
      ]
    },
    {
      "metadata": {
        "id": "yOeiOOpLI-P-",
        "colab_type": "code",
        "colab": {}
      },
      "cell_type": "code",
      "source": [
        "def build_synth_data(data, labels, dataset_size):\n",
        "    \n",
        "    # Define synthetic image dimensions\n",
        "    synth_img_height = 64\n",
        "    synth_img_width = 64\n",
        "    \n",
        "    # Define synthetic data\n",
        "    synth_data = np.ndarray(shape=(dataset_size, synth_img_height,\n",
        "                                   synth_img_width), dtype=np.float32)\n",
        "    \n",
        "    # Define synthetic labels\n",
        "    synth_labels = [] \n",
        "    \n",
        "    # For a loop till the size of the synthetic dataset\n",
        "    for i in range(0,dataset_size):\n",
        "        \n",
        "        # Pick a random number of digits to be in the dataset\n",
        "        num_digits = random.randint(1,5)\n",
        "        \n",
        "        # Randomly sampling indices to extract digits + labels afterwards\n",
        "        s_indices = [random.randint(0, len(data)-1) for p in range(0, num_digits)]\n",
        "        \n",
        "        # stitch images together\n",
        "        new_image = np.hstack([X_train[index] for index in s_indices])\n",
        "        # stitch the labels together\n",
        "        new_label =  [y_train[index] for index in s_indices]\n",
        "        \n",
        "        \n",
        "        # Loop till number of digits - 5, to concatenate blanks images, and blank labels together\n",
        "        for j in range(0,5-num_digits):\n",
        "            new_image = np.hstack([new_image, np.zeros(shape=(mnist_image_height,\n",
        "                                                                   mnist_image_width))])\n",
        "            new_label.append(10) #Might need to remove this step\n",
        "        \n",
        "        # Resize image\n",
        "        new_image = misc.imresize(new_image,(64,64))\n",
        "        \n",
        "        # Assign the image to synth_data\n",
        "        synth_data[i,:,:] = new_image\n",
        "        \n",
        "        # Assign the label to synth_data\n",
        "        synth_labels.append(tuple(new_label))\n",
        "        \n",
        "    \n",
        "    # Return the synthetic dataset\n",
        "    return synth_data,synth_labels"
      ],
      "execution_count": 0,
      "outputs": []
    },
    {
      "metadata": {
        "id": "usRGcxtiJr0N",
        "colab_type": "code",
        "colab": {
          "base_uri": "https://localhost:8080/",
          "height": 105
        },
        "outputId": "eba0a680-73ac-408b-f451-4106e6292793"
      },
      "cell_type": "code",
      "source": [
        "# Building the training dataset\n",
        "X_synth_train, y_synth_train = build_synth_data(X_train, y_train, 60000)"
      ],
      "execution_count": 7,
      "outputs": [
        {
          "output_type": "stream",
          "text": [
            "/usr/local/lib/python2.7/dist-packages/scipy/misc/pilutil.py:482: FutureWarning: Conversion of the second argument of issubdtype from `int` to `np.signedinteger` is deprecated. In future, it will be treated as `np.int64 == np.dtype(int).type`.\n",
            "  if issubdtype(ts, int):\n",
            "/usr/local/lib/python2.7/dist-packages/scipy/misc/pilutil.py:485: FutureWarning: Conversion of the second argument of issubdtype from `float` to `np.floating` is deprecated. In future, it will be treated as `np.float64 == np.dtype(float).type`.\n",
            "  elif issubdtype(type(size), float):\n"
          ],
          "name": "stderr"
        }
      ]
    },
    {
      "metadata": {
        "id": "dLNhglO0J1Xk",
        "colab_type": "code",
        "colab": {}
      },
      "cell_type": "code",
      "source": [
        "# Building the test dataset\n",
        "X_synth_test, y_synth_test = build_synth_data(X_test, y_test, 10000)"
      ],
      "execution_count": 0,
      "outputs": []
    },
    {
      "metadata": {
        "id": "C5vJ1NfJJ-sF",
        "colab_type": "code",
        "colab": {
          "base_uri": "https://localhost:8080/",
          "height": 285
        },
        "outputId": "bdd1fff4-fadf-43e8-a581-45cd623c1eb8"
      },
      "cell_type": "code",
      "source": [
        "# checking a sample\n",
        "plt.figure()\n",
        "plt.imshow(X_synth_train[232], cmap='gray')\n",
        "\n",
        "y_synth_train[232]"
      ],
      "execution_count": 9,
      "outputs": [
        {
          "output_type": "execute_result",
          "data": {
            "text/plain": [
              "(7, 3, 1, 1, 3)"
            ]
          },
          "metadata": {
            "tags": []
          },
          "execution_count": 9
        },
        {
          "output_type": "display_data",
          "data": {
            "image/png": "[encoded data removed]",
            "text/plain": [
              "<matplotlib.figure.Figure at 0x7f2bb6f2aa10>"
            ]
          },
          "metadata": {
            "tags": []
          }
        }
      ]
    },
    {
      "metadata": {
        "id": "xOQpSYQNHKIu",
        "colab_type": "text"
      },
      "cell_type": "markdown",
      "source": [
        "## Convert Labels\n",
        "This function converts each digit label to one-hot array."
      ]
    },
    {
      "metadata": {
        "id": "slWvJtn2Kts1",
        "colab_type": "code",
        "colab": {}
      },
      "cell_type": "code",
      "source": [
        "# Converting labels to One-hot representations of shape (set_size, digits, classes)\n",
        "possible_classes = 11\n",
        "\n",
        "def convert_labels(labels):\n",
        "    \n",
        "    # As per Keras conventions, the multiple labels need to be of the form [array_digit1,...5]\n",
        "    # Each digit array will be of shape (60000,11)\n",
        "        \n",
        "    # Declare output ndarrays\n",
        "    # 5 for digits, 11 for possible classes  \n",
        "    dig0_arr = np.ndarray(shape=(len(labels),possible_classes))\n",
        "    dig1_arr = np.ndarray(shape=(len(labels),possible_classes))\n",
        "    dig2_arr = np.ndarray(shape=(len(labels),possible_classes))\n",
        "    dig3_arr = np.ndarray(shape=(len(labels),possible_classes))\n",
        "    dig4_arr = np.ndarray(shape=(len(labels),possible_classes))\n",
        "    \n",
        "    for index,label in enumerate(labels):\n",
        "        \n",
        "        # Using np_utils from keras to OHE the labels in the image\n",
        "        dig0_arr[index,:] = np_utils.to_categorical(label[0],possible_classes)\n",
        "        dig1_arr[index,:] = np_utils.to_categorical(label[1],possible_classes)\n",
        "        dig2_arr[index,:] = np_utils.to_categorical(label[2],possible_classes)\n",
        "        dig3_arr[index,:] = np_utils.to_categorical(label[3],possible_classes)\n",
        "        dig4_arr[index,:] = np_utils.to_categorical(label[4],possible_classes)\n",
        "        \n",
        "    return [dig0_arr,dig1_arr,dig2_arr,dig3_arr,dig4_arr]"
      ],
      "execution_count": 0,
      "outputs": []
    },
    {
      "metadata": {
        "id": "17m-itv9Lizo",
        "colab_type": "code",
        "colab": {}
      },
      "cell_type": "code",
      "source": [
        "train_labels = convert_labels(y_synth_train)\n",
        "test_labels = convert_labels(y_synth_test)"
      ],
      "execution_count": 0,
      "outputs": []
    },
    {
      "metadata": {
        "id": "NOjPwpQTLmAn",
        "colab_type": "code",
        "colab": {
          "base_uri": "https://localhost:8080/",
          "height": 34
        },
        "outputId": "2606b91d-895b-43bc-8b69-417749559d94"
      },
      "cell_type": "code",
      "source": [
        "# Checking the shape of the OHE array for the first digit position\n",
        "np.shape(train_labels[0])"
      ],
      "execution_count": 12,
      "outputs": [
        {
          "output_type": "execute_result",
          "data": {
            "text/plain": [
              "(60000, 11)"
            ]
          },
          "metadata": {
            "tags": []
          },
          "execution_count": 12
        }
      ]
    },
    {
      "metadata": {
        "id": "liZLz1T7Lqwz",
        "colab_type": "code",
        "colab": {
          "base_uri": "https://localhost:8080/",
          "height": 34
        },
        "outputId": "adbadd23-8105-4b48-d672-41a25080e477"
      },
      "cell_type": "code",
      "source": [
        "np_utils.to_categorical(y_synth_train[234][0],11)"
      ],
      "execution_count": 13,
      "outputs": [
        {
          "output_type": "execute_result",
          "data": {
            "text/plain": [
              "array([0., 0., 0., 0., 1., 0., 0., 0., 0., 0., 0.], dtype=float32)"
            ]
          },
          "metadata": {
            "tags": []
          },
          "execution_count": 13
        }
      ]
    },
    {
      "metadata": {
        "id": "Oe8PQKllIT2N",
        "colab_type": "text"
      },
      "cell_type": "markdown",
      "source": [
        "## Prepare Data for Keras\n",
        "Reshape image data to be processed by Keras."
      ]
    },
    {
      "metadata": {
        "id": "WTQg2PaWLzc0",
        "colab_type": "code",
        "colab": {}
      },
      "cell_type": "code",
      "source": [
        "def prep_data_keras(img_data):\n",
        "    \n",
        "    # Reshaping data for keras, with tensorflow as backend\n",
        "    img_data = img_data.reshape(len(img_data), 64, 64, 1)\n",
        "    \n",
        "    # Converting everything to floats\n",
        "    img_data = img_data.astype('float32')\n",
        "    \n",
        "    # Normalizing values between 0 and 1\n",
        "    img_data /= 255\n",
        "    \n",
        "    return img_data\n"
      ],
      "execution_count": 0,
      "outputs": []
    },
    {
      "metadata": {
        "id": "GHUhGAErL--5",
        "colab_type": "code",
        "colab": {}
      },
      "cell_type": "code",
      "source": [
        "train_images = prep_data_keras(X_synth_train)\n",
        "test_images = prep_data_keras(X_synth_test)"
      ],
      "execution_count": 0,
      "outputs": []
    },
    {
      "metadata": {
        "id": "D2p7Py9wMBGw",
        "colab_type": "code",
        "colab": {
          "base_uri": "https://localhost:8080/",
          "height": 34
        },
        "outputId": "344765ba-2486-4393-866d-7b7181077194"
      },
      "cell_type": "code",
      "source": [
        "np.shape(train_images)"
      ],
      "execution_count": 16,
      "outputs": [
        {
          "output_type": "execute_result",
          "data": {
            "text/plain": [
              "(60000, 64, 64, 1)"
            ]
          },
          "metadata": {
            "tags": []
          },
          "execution_count": 16
        }
      ]
    },
    {
      "metadata": {
        "id": "tyXraB2MMQvR",
        "colab_type": "code",
        "colab": {
          "base_uri": "https://localhost:8080/",
          "height": 34
        },
        "outputId": "ca7ca10e-00fc-4adf-df75-7f158f2e91d2"
      },
      "cell_type": "code",
      "source": [
        "np.shape(test_images)"
      ],
      "execution_count": 17,
      "outputs": [
        {
          "output_type": "execute_result",
          "data": {
            "text/plain": [
              "(10000, 64, 64, 1)"
            ]
          },
          "metadata": {
            "tags": []
          },
          "execution_count": 17
        }
      ]
    },
    {
      "metadata": {
        "id": "INF-j_J_MTi_",
        "colab_type": "code",
        "colab": {}
      },
      "cell_type": "code",
      "source": [
        "# Importing relevant keras modules\n",
        "from keras.models import Sequential, Model\n",
        "from keras.layers import Dense, Dropout, Activation, Flatten, Input\n",
        "from keras.layers import Conv2D, MaxPooling2D"
      ],
      "execution_count": 0,
      "outputs": []
    },
    {
      "metadata": {
        "id": "sj66iuNtLfJu",
        "colab_type": "text"
      },
      "cell_type": "markdown",
      "source": [
        "## Build Model\n",
        "Build Deep Learning model to process data."
      ]
    },
    {
      "metadata": {
        "id": "ixTneFcAM_BN",
        "colab_type": "code",
        "colab": {
          "base_uri": "https://localhost:8080/",
          "height": 479
        },
        "outputId": "34a30391-81bb-44f2-d83a-929d77107236"
      },
      "cell_type": "code",
      "source": [
        "# Building the model\n",
        "\n",
        "batch_size = 128\n",
        "nb_classes = 11\n",
        "nb_epoch = 12\n",
        "\n",
        "# image input dimensions\n",
        "img_rows = 64\n",
        "img_cols = 64\n",
        "img_channels = 1\n",
        "\n",
        "# number of convulation filters to use\n",
        "nb_filters = 32\n",
        "# size of pooling area for max pooling\n",
        "pool_size = (2, 2)\n",
        "# convolution kernel size\n",
        "kernel_size = (3, 3)\n",
        "\n",
        "# defining the input\n",
        "inputs = Input(shape=(img_rows, img_cols, img_channels))\n",
        "\n",
        "# Model taken from keras example.\n",
        "cov = Conv2D(nb_filters, kernel_size=kernel_size, padding='same')(inputs)\n",
        "cov = Activation('relu')(cov)\n",
        "cov = Conv2D(nb_filters, kernel_size=kernel_size, padding='same')(cov)\n",
        "cov = Activation('relu')(cov)\n",
        "cov = MaxPooling2D(pool_size=pool_size)(cov)\n",
        "cov = Dropout(0.25)(cov)\n",
        "cov_out = Flatten()(cov)\n",
        "\n",
        "\n",
        "# Dense Layers\n",
        "cov2 = Dense(128, activation='relu')(cov_out)\n",
        "cov2 = Dropout(0.5)(cov2)\n",
        "\n",
        "\n",
        "\n",
        "# Prediction layers\n",
        "c0 = Dense(nb_classes, activation='softmax')(cov2)\n",
        "c1 = Dense(nb_classes, activation='softmax')(cov2)\n",
        "c2 = Dense(nb_classes, activation='softmax')(cov2)\n",
        "c3 = Dense(nb_classes, activation='softmax')(cov2)\n",
        "c4 = Dense(nb_classes, activation='softmax')(cov2)\n",
        "\n",
        "# Defining the model\n",
        "model = Model(inputs=inputs,outputs=[c0,c1,c2,c3,c4])\n",
        "\n",
        "# Compiling the model\n",
        "model.compile(loss='categorical_crossentropy',optimizer='adam',metrics=['accuracy'])\n",
        "\n",
        "# Fitting the model\n",
        "model.fit(train_images,train_labels,batch_size=batch_size,epochs=nb_epoch,verbose=1,\n",
        "          validation_data=(test_images, test_labels))"
      ],
      "execution_count": 56,
      "outputs": [
        {
          "output_type": "stream",
          "text": [
            "Train on 60000 samples, validate on 10000 samples\n",
            "Epoch 1/12\n",
            "35200/60000 [================>.............] - ETA: 14s - loss: 4.4262 - dense_8_loss: 1.1288 - dense_9_loss: 1.0687 - dense_10_loss: 0.9362 - dense_11_loss: 0.7670 - dense_12_loss: 0.5255 - dense_8_acc: 0.6199 - dense_9_acc: 0.6432 - dense_10_acc: 0.6910 - dense_11_acc: 0.7531 - dense_12_acc: 0.8384"
          ],
          "name": "stdout"
        },
        {
          "output_type": "stream",
          "text": [
            "60000/60000 [==============================] - 36s 599us/step - loss: 3.7877 - dense_8_loss: 0.9537 - dense_9_loss: 0.9043 - dense_10_loss: 0.8043 - dense_11_loss: 0.6648 - dense_12_loss: 0.4607 - dense_8_acc: 0.6792 - dense_9_acc: 0.6995 - dense_10_acc: 0.7340 - dense_11_acc: 0.7848 - dense_12_acc: 0.8566 - val_loss: 1.0256 - val_dense_8_loss: 0.2343 - val_dense_9_loss: 0.2216 - val_dense_10_loss: 0.2022 - val_dense_11_loss: 0.1935 - val_dense_12_loss: 0.1740 - val_dense_8_acc: 0.9455 - val_dense_9_acc: 0.9469 - val_dense_10_acc: 0.9554 - val_dense_11_acc: 0.9543 - val_dense_12_acc: 0.9491\n",
            "Epoch 2/12\n",
            " 5760/60000 [=>............................] - ETA: 29s - loss: 2.5637 - dense_8_loss: 0.6014 - dense_9_loss: 0.6232 - dense_10_loss: 0.5499 - dense_11_loss: 0.4715 - dense_12_loss: 0.3178 - dense_8_acc: 0.7991 - dense_9_acc: 0.8012 - dense_10_acc: 0.8132 - dense_11_acc: 0.8441 - dense_12_acc: 0.8984"
          ],
          "name": "stdout"
        },
        {
          "output_type": "stream",
          "text": [
            "48128/60000 [=======================>......] - ETA: 6s - loss: 2.3979 - dense_8_loss: 0.5735 - dense_9_loss: 0.5651 - dense_10_loss: 0.5180 - dense_11_loss: 0.4298 - dense_12_loss: 0.3116 - dense_8_acc: 0.8108 - dense_9_acc: 0.8142 - dense_10_acc: 0.8253 - dense_11_acc: 0.8578 - dense_12_acc: 0.8969"
          ],
          "name": "stdout"
        },
        {
          "output_type": "stream",
          "text": [
            "60000/60000 [==============================] - 34s 572us/step - loss: 2.3731 - dense_8_loss: 0.5679 - dense_9_loss: 0.5562 - dense_10_loss: 0.5129 - dense_11_loss: 0.4266 - dense_12_loss: 0.3094 - dense_8_acc: 0.8132 - dense_9_acc: 0.8173 - dense_10_acc: 0.8272 - dense_11_acc: 0.8582 - dense_12_acc: 0.8979 - val_loss: 0.7035 - val_dense_8_loss: 0.1621 - val_dense_9_loss: 0.1498 - val_dense_10_loss: 0.1419 - val_dense_11_loss: 0.1352 - val_dense_12_loss: 0.1144 - val_dense_8_acc: 0.9600 - val_dense_9_acc: 0.9667 - val_dense_10_acc: 0.9673 - val_dense_11_acc: 0.9697 - val_dense_12_acc: 0.9754\n",
            "Epoch 3/12\n",
            " 9856/60000 [===>..........................] - ETA: 26s - loss: 2.0533 - dense_8_loss: 0.4912 - dense_9_loss: 0.4717 - dense_10_loss: 0.4543 - dense_11_loss: 0.3742 - dense_12_loss: 0.2618 - dense_8_acc: 0.8400 - dense_9_acc: 0.8378 - dense_10_acc: 0.8477 - dense_11_acc: 0.8800 - dense_12_acc: 0.9138"
          ],
          "name": "stdout"
        },
        {
          "output_type": "stream",
          "text": [
            "50944/60000 [========================>.....] - ETA: 4s - loss: 2.0138 - dense_8_loss: 0.4711 - dense_9_loss: 0.4668 - dense_10_loss: 0.4414 - dense_11_loss: 0.3711 - dense_12_loss: 0.2634 - dense_8_acc: 0.8446 - dense_9_acc: 0.8431 - dense_10_acc: 0.8533 - dense_11_acc: 0.8778 - dense_12_acc: 0.9130"
          ],
          "name": "stdout"
        },
        {
          "output_type": "stream",
          "text": [
            "60000/60000 [==============================] - 34s 569us/step - loss: 2.0006 - dense_8_loss: 0.4677 - dense_9_loss: 0.4636 - dense_10_loss: 0.4391 - dense_11_loss: 0.3683 - dense_12_loss: 0.2618 - dense_8_acc: 0.8456 - dense_9_acc: 0.8447 - dense_10_acc: 0.8534 - dense_11_acc: 0.8777 - dense_12_acc: 0.9133 - val_loss: 0.5784 - val_dense_8_loss: 0.1291 - val_dense_9_loss: 0.1236 - val_dense_10_loss: 0.1083 - val_dense_11_loss: 0.1101 - val_dense_12_loss: 0.1074 - val_dense_8_acc: 0.9659 - val_dense_9_acc: 0.9681 - val_dense_10_acc: 0.9753 - val_dense_11_acc: 0.9738 - val_dense_12_acc: 0.9746\n",
            "Epoch 4/12\n",
            "10752/60000 [====>.........................] - ETA: 26s - loss: 1.8769 - dense_8_loss: 0.4315 - dense_9_loss: 0.4377 - dense_10_loss: 0.4054 - dense_11_loss: 0.3464 - dense_12_loss: 0.2559 - dense_8_acc: 0.8582 - dense_9_acc: 0.8545 - dense_10_acc: 0.8581 - dense_11_acc: 0.8835 - dense_12_acc: 0.9136"
          ],
          "name": "stdout"
        },
        {
          "output_type": "stream",
          "text": [
            "52096/60000 [=========================>....] - ETA: 4s - loss: 1.7934 - dense_8_loss: 0.4144 - dense_9_loss: 0.4109 - dense_10_loss: 0.3902 - dense_11_loss: 0.3366 - dense_12_loss: 0.2413 - dense_8_acc: 0.8608 - dense_9_acc: 0.8635 - dense_10_acc: 0.8673 - dense_11_acc: 0.8873 - dense_12_acc: 0.9177"
          ],
          "name": "stdout"
        },
        {
          "output_type": "stream",
          "text": [
            "60000/60000 [==============================] - 34s 568us/step - loss: 1.7836 - dense_8_loss: 0.4104 - dense_9_loss: 0.4088 - dense_10_loss: 0.3888 - dense_11_loss: 0.3352 - dense_12_loss: 0.2403 - dense_8_acc: 0.8621 - dense_9_acc: 0.8642 - dense_10_acc: 0.8675 - dense_11_acc: 0.8880 - dense_12_acc: 0.9183 - val_loss: 0.5092 - val_dense_8_loss: 0.1088 - val_dense_9_loss: 0.1116 - val_dense_10_loss: 0.0995 - val_dense_11_loss: 0.0973 - val_dense_12_loss: 0.0920 - val_dense_8_acc: 0.9741 - val_dense_9_acc: 0.9719 - val_dense_10_acc: 0.9782 - val_dense_11_acc: 0.9779 - val_dense_12_acc: 0.9792\n",
            "Epoch 5/12\n",
            "11136/60000 [====>.........................] - ETA: 26s - loss: 1.6137 - dense_8_loss: 0.3622 - dense_9_loss: 0.3675 - dense_10_loss: 0.3598 - dense_11_loss: 0.3058 - dense_12_loss: 0.2185 - dense_8_acc: 0.8809 - dense_9_acc: 0.8754 - dense_10_acc: 0.8770 - dense_11_acc: 0.8957 - dense_12_acc: 0.9274"
          ],
          "name": "stdout"
        },
        {
          "output_type": "stream",
          "text": [
            "53248/60000 [=========================>....] - ETA: 3s - loss: 1.6145 - dense_8_loss: 0.3609 - dense_9_loss: 0.3706 - dense_10_loss: 0.3545 - dense_11_loss: 0.3060 - dense_12_loss: 0.2225 - dense_8_acc: 0.8788 - dense_9_acc: 0.8733 - dense_10_acc: 0.8795 - dense_11_acc: 0.8955 - dense_12_acc: 0.9242"
          ],
          "name": "stdout"
        },
        {
          "output_type": "stream",
          "text": [
            "60000/60000 [==============================] - 34s 567us/step - loss: 1.6130 - dense_8_loss: 0.3613 - dense_9_loss: 0.3694 - dense_10_loss: 0.3541 - dense_11_loss: 0.3059 - dense_12_loss: 0.2222 - dense_8_acc: 0.8785 - dense_9_acc: 0.8739 - dense_10_acc: 0.8793 - dense_11_acc: 0.8958 - dense_12_acc: 0.9243 - val_loss: 0.4562 - val_dense_8_loss: 0.1003 - val_dense_9_loss: 0.0984 - val_dense_10_loss: 0.0880 - val_dense_11_loss: 0.0900 - val_dense_12_loss: 0.0795 - val_dense_8_acc: 0.9729 - val_dense_9_acc: 0.9748 - val_dense_10_acc: 0.9801 - val_dense_11_acc: 0.9781 - val_dense_12_acc: 0.9844\n",
            "Epoch 6/12\n",
            "11264/60000 [====>.........................] - ETA: 26s - loss: 1.5117 - dense_8_loss: 0.3326 - dense_9_loss: 0.3551 - dense_10_loss: 0.3292 - dense_11_loss: 0.2910 - dense_12_loss: 0.2038 - dense_8_acc: 0.8850 - dense_9_acc: 0.8778 - dense_10_acc: 0.8831 - dense_11_acc: 0.8997 - dense_12_acc: 0.9292"
          ],
          "name": "stdout"
        },
        {
          "output_type": "stream",
          "text": [
            "52352/60000 [=========================>....] - ETA: 4s - loss: 1.4710 - dense_8_loss: 0.3255 - dense_9_loss: 0.3388 - dense_10_loss: 0.3192 - dense_11_loss: 0.2834 - dense_12_loss: 0.2040 - dense_8_acc: 0.8884 - dense_9_acc: 0.8839 - dense_10_acc: 0.8888 - dense_11_acc: 0.9034 - dense_12_acc: 0.9292"
          ],
          "name": "stdout"
        },
        {
          "output_type": "stream",
          "text": [
            "60000/60000 [==============================] - 34s 566us/step - loss: 1.4700 - dense_8_loss: 0.3257 - dense_9_loss: 0.3376 - dense_10_loss: 0.3191 - dense_11_loss: 0.2840 - dense_12_loss: 0.2036 - dense_8_acc: 0.8884 - dense_9_acc: 0.8840 - dense_10_acc: 0.8887 - dense_11_acc: 0.9031 - dense_12_acc: 0.9294 - val_loss: 0.4074 - val_dense_8_loss: 0.0927 - val_dense_9_loss: 0.0876 - val_dense_10_loss: 0.0778 - val_dense_11_loss: 0.0741 - val_dense_12_loss: 0.0752 - val_dense_8_acc: 0.9737 - val_dense_9_acc: 0.9776 - val_dense_10_acc: 0.9809 - val_dense_11_acc: 0.9800 - val_dense_12_acc: 0.9836\n",
            "Epoch 7/12\n",
            "11136/60000 [====>.........................] - ETA: 26s - loss: 1.3520 - dense_8_loss: 0.3056 - dense_9_loss: 0.3124 - dense_10_loss: 0.2789 - dense_11_loss: 0.2621 - dense_12_loss: 0.1929 - dense_8_acc: 0.8954 - dense_9_acc: 0.8905 - dense_10_acc: 0.9001 - dense_11_acc: 0.9074 - dense_12_acc: 0.9354"
          ],
          "name": "stdout"
        },
        {
          "output_type": "stream",
          "text": [
            "52224/60000 [=========================>....] - ETA: 4s - loss: 1.3616 - dense_8_loss: 0.3037 - dense_9_loss: 0.3134 - dense_10_loss: 0.2933 - dense_11_loss: 0.2598 - dense_12_loss: 0.1915 - dense_8_acc: 0.8951 - dense_9_acc: 0.8895 - dense_10_acc: 0.8974 - dense_11_acc: 0.9091 - dense_12_acc: 0.9353"
          ],
          "name": "stdout"
        },
        {
          "output_type": "stream",
          "text": [
            "60000/60000 [==============================] - 34s 568us/step - loss: 1.3558 - dense_8_loss: 0.3020 - dense_9_loss: 0.3131 - dense_10_loss: 0.2914 - dense_11_loss: 0.2587 - dense_12_loss: 0.1907 - dense_8_acc: 0.8955 - dense_9_acc: 0.8903 - dense_10_acc: 0.8977 - dense_11_acc: 0.9096 - dense_12_acc: 0.9354 - val_loss: 0.3715 - val_dense_8_loss: 0.0851 - val_dense_9_loss: 0.0764 - val_dense_10_loss: 0.0703 - val_dense_11_loss: 0.0695 - val_dense_12_loss: 0.0703 - val_dense_8_acc: 0.9763 - val_dense_9_acc: 0.9787 - val_dense_10_acc: 0.9809 - val_dense_11_acc: 0.9796 - val_dense_12_acc: 0.9855\n",
            "Epoch 8/12\n",
            "11392/60000 [====>.........................] - ETA: 26s - loss: 1.2685 - dense_8_loss: 0.2871 - dense_9_loss: 0.2831 - dense_10_loss: 0.2714 - dense_11_loss: 0.2437 - dense_12_loss: 0.1831 - dense_8_acc: 0.9016 - dense_9_acc: 0.8999 - dense_10_acc: 0.9025 - dense_11_acc: 0.9121 - dense_12_acc: 0.9379"
          ],
          "name": "stdout"
        },
        {
          "output_type": "stream",
          "text": [
            "53248/60000 [=========================>....] - ETA: 3s - loss: 1.2750 - dense_8_loss: 0.2809 - dense_9_loss: 0.2921 - dense_10_loss: 0.2754 - dense_11_loss: 0.2446 - dense_12_loss: 0.1820 - dense_8_acc: 0.9036 - dense_9_acc: 0.8978 - dense_10_acc: 0.9037 - dense_11_acc: 0.9135 - dense_12_acc: 0.9374"
          ],
          "name": "stdout"
        },
        {
          "output_type": "stream",
          "text": [
            "60000/60000 [==============================] - 34s 570us/step - loss: 1.2744 - dense_8_loss: 0.2804 - dense_9_loss: 0.2915 - dense_10_loss: 0.2770 - dense_11_loss: 0.2440 - dense_12_loss: 0.1815 - dense_8_acc: 0.9041 - dense_9_acc: 0.8982 - dense_10_acc: 0.9033 - dense_11_acc: 0.9136 - dense_12_acc: 0.9372 - val_loss: 0.3579 - val_dense_8_loss: 0.0842 - val_dense_9_loss: 0.0746 - val_dense_10_loss: 0.0647 - val_dense_11_loss: 0.0665 - val_dense_12_loss: 0.0679 - val_dense_8_acc: 0.9782 - val_dense_9_acc: 0.9778 - val_dense_10_acc: 0.9820 - val_dense_11_acc: 0.9812 - val_dense_12_acc: 0.9867\n",
            "Epoch 9/12\n",
            "11392/60000 [====>.........................] - ETA: 26s - loss: 1.2094 - dense_8_loss: 0.2596 - dense_9_loss: 0.2746 - dense_10_loss: 0.2647 - dense_11_loss: 0.2370 - dense_12_loss: 0.1734 - dense_8_acc: 0.9084 - dense_9_acc: 0.8987 - dense_10_acc: 0.9042 - dense_11_acc: 0.9135 - dense_12_acc: 0.9383"
          ],
          "name": "stdout"
        },
        {
          "output_type": "stream",
          "text": [
            "52992/60000 [=========================>....] - ETA: 3s - loss: 1.2007 - dense_8_loss: 0.2627 - dense_9_loss: 0.2723 - dense_10_loss: 0.2572 - dense_11_loss: 0.2354 - dense_12_loss: 0.1732 - dense_8_acc: 0.9084 - dense_9_acc: 0.9015 - dense_10_acc: 0.9079 - dense_11_acc: 0.9157 - dense_12_acc: 0.9394"
          ],
          "name": "stdout"
        },
        {
          "output_type": "stream",
          "text": [
            "60000/60000 [==============================] - 34s 568us/step - loss: 1.1992 - dense_8_loss: 0.2627 - dense_9_loss: 0.2721 - dense_10_loss: 0.2577 - dense_11_loss: 0.2339 - dense_12_loss: 0.1729 - dense_8_acc: 0.9086 - dense_9_acc: 0.9018 - dense_10_acc: 0.9082 - dense_11_acc: 0.9163 - dense_12_acc: 0.9394 - val_loss: 0.3378 - val_dense_8_loss: 0.0790 - val_dense_9_loss: 0.0689 - val_dense_10_loss: 0.0636 - val_dense_11_loss: 0.0627 - val_dense_12_loss: 0.0635 - val_dense_8_acc: 0.9786 - val_dense_9_acc: 0.9802 - val_dense_10_acc: 0.9827 - val_dense_11_acc: 0.9818 - val_dense_12_acc: 0.9855\n",
            "Epoch 10/12\n",
            "11392/60000 [====>.........................] - ETA: 26s - loss: 1.0996 - dense_8_loss: 0.2433 - dense_9_loss: 0.2405 - dense_10_loss: 0.2395 - dense_11_loss: 0.2093 - dense_12_loss: 0.1671 - dense_8_acc: 0.9135 - dense_9_acc: 0.9132 - dense_10_acc: 0.9149 - dense_11_acc: 0.9257 - dense_12_acc: 0.9389"
          ],
          "name": "stdout"
        },
        {
          "output_type": "stream",
          "text": [
            "52480/60000 [=========================>....] - ETA: 4s - loss: 1.1144 - dense_8_loss: 0.2469 - dense_9_loss: 0.2479 - dense_10_loss: 0.2414 - dense_11_loss: 0.2148 - dense_12_loss: 0.1633 - dense_8_acc: 0.9120 - dense_9_acc: 0.9105 - dense_10_acc: 0.9126 - dense_11_acc: 0.9233 - dense_12_acc: 0.9412"
          ],
          "name": "stdout"
        },
        {
          "output_type": "stream",
          "text": [
            "60000/60000 [==============================] - 34s 567us/step - loss: 1.1154 - dense_8_loss: 0.2474 - dense_9_loss: 0.2474 - dense_10_loss: 0.2423 - dense_11_loss: 0.2159 - dense_12_loss: 0.1624 - dense_8_acc: 0.9117 - dense_9_acc: 0.9108 - dense_10_acc: 0.9121 - dense_11_acc: 0.9232 - dense_12_acc: 0.9416 - val_loss: 0.3320 - val_dense_8_loss: 0.0838 - val_dense_9_loss: 0.0660 - val_dense_10_loss: 0.0652 - val_dense_11_loss: 0.0594 - val_dense_12_loss: 0.0576 - val_dense_8_acc: 0.9775 - val_dense_9_acc: 0.9794 - val_dense_10_acc: 0.9825 - val_dense_11_acc: 0.9839 - val_dense_12_acc: 0.9879\n",
            "Epoch 11/12\n",
            "11008/60000 [====>.........................] - ETA: 26s - loss: 1.0402 - dense_8_loss: 0.2305 - dense_9_loss: 0.2348 - dense_10_loss: 0.2173 - dense_11_loss: 0.1986 - dense_12_loss: 0.1589 - dense_8_acc: 0.9179 - dense_9_acc: 0.9135 - dense_10_acc: 0.9231 - dense_11_acc: 0.9249 - dense_12_acc: 0.9454"
          ],
          "name": "stdout"
        },
        {
          "output_type": "stream",
          "text": [
            "52608/60000 [=========================>....] - ETA: 3s - loss: 1.0497 - dense_8_loss: 0.2300 - dense_9_loss: 0.2430 - dense_10_loss: 0.2235 - dense_11_loss: 0.1998 - dense_12_loss: 0.1534 - dense_8_acc: 0.9183 - dense_9_acc: 0.9114 - dense_10_acc: 0.9202 - dense_11_acc: 0.9271 - dense_12_acc: 0.9463"
          ],
          "name": "stdout"
        },
        {
          "output_type": "stream",
          "text": [
            "60000/60000 [==============================] - 34s 567us/step - loss: 1.0489 - dense_8_loss: 0.2303 - dense_9_loss: 0.2425 - dense_10_loss: 0.2237 - dense_11_loss: 0.1999 - dense_12_loss: 0.1525 - dense_8_acc: 0.9192 - dense_9_acc: 0.9118 - dense_10_acc: 0.9201 - dense_11_acc: 0.9274 - dense_12_acc: 0.9464 - val_loss: 0.3144 - val_dense_8_loss: 0.0753 - val_dense_9_loss: 0.0623 - val_dense_10_loss: 0.0589 - val_dense_11_loss: 0.0586 - val_dense_12_loss: 0.0593 - val_dense_8_acc: 0.9805 - val_dense_9_acc: 0.9801 - val_dense_10_acc: 0.9828 - val_dense_11_acc: 0.9837 - val_dense_12_acc: 0.9870\n",
            "Epoch 12/12\n",
            "11264/60000 [====>.........................] - ETA: 26s - loss: 0.9710 - dense_8_loss: 0.2093 - dense_9_loss: 0.2153 - dense_10_loss: 0.2108 - dense_11_loss: 0.1903 - dense_12_loss: 0.1453 - dense_8_acc: 0.9241 - dense_9_acc: 0.9207 - dense_10_acc: 0.9241 - dense_11_acc: 0.9300 - dense_12_acc: 0.9468"
          ],
          "name": "stdout"
        },
        {
          "output_type": "stream",
          "text": [
            "53376/60000 [=========================>....] - ETA: 3s - loss: 0.9935 - dense_8_loss: 0.2136 - dense_9_loss: 0.2245 - dense_10_loss: 0.2199 - dense_11_loss: 0.1916 - dense_12_loss: 0.1440 - dense_8_acc: 0.9238 - dense_9_acc: 0.9184 - dense_10_acc: 0.9209 - dense_11_acc: 0.9301 - dense_12_acc: 0.9478"
          ],
          "name": "stdout"
        },
        {
          "output_type": "stream",
          "text": [
            "60000/60000 [==============================] - 34s 567us/step - loss: 0.9931 - dense_8_loss: 0.2140 - dense_9_loss: 0.2246 - dense_10_loss: 0.2197 - dense_11_loss: 0.1919 - dense_12_loss: 0.1429 - dense_8_acc: 0.9233 - dense_9_acc: 0.9186 - dense_10_acc: 0.9209 - dense_11_acc: 0.9297 - dense_12_acc: 0.9481 - val_loss: 0.3148 - val_dense_8_loss: 0.0822 - val_dense_9_loss: 0.0618 - val_dense_10_loss: 0.0568 - val_dense_11_loss: 0.0577 - val_dense_12_loss: 0.0563 - val_dense_8_acc: 0.9796 - val_dense_9_acc: 0.9810 - val_dense_10_acc: 0.9825 - val_dense_11_acc: 0.9841 - val_dense_12_acc: 0.9866\n"
          ],
          "name": "stdout"
        },
        {
          "output_type": "execute_result",
          "data": {
            "text/plain": [
              "<keras.callbacks.History at 0x7f2bab693990>"
            ]
          },
          "metadata": {
            "tags": []
          },
          "execution_count": 56
        }
      ]
    },
    {
      "metadata": {
        "id": "w1gl0EeoPo6k",
        "colab_type": "code",
        "colab": {}
      },
      "cell_type": "code",
      "source": [
        "predictions = model.predict(test_images)"
      ],
      "execution_count": 0,
      "outputs": []
    },
    {
      "metadata": {
        "id": "ijyU9tJ3Psbr",
        "colab_type": "code",
        "colab": {
          "base_uri": "https://localhost:8080/",
          "height": 34
        },
        "outputId": "667a9617-2a98-4dc4-ebf8-c25eaa39035a"
      },
      "cell_type": "code",
      "source": [
        "np.shape(predictions)"
      ],
      "execution_count": 21,
      "outputs": [
        {
          "output_type": "execute_result",
          "data": {
            "text/plain": [
              "(5, 10000, 11)"
            ]
          },
          "metadata": {
            "tags": []
          },
          "execution_count": 21
        }
      ]
    },
    {
      "metadata": {
        "id": "vZ9WBF1yQRG3",
        "colab_type": "code",
        "colab": {
          "base_uri": "https://localhost:8080/",
          "height": 34
        },
        "outputId": "a052cd40-3141-42fb-95bb-2230d8018d72"
      },
      "cell_type": "code",
      "source": [
        "len(predictions[0])"
      ],
      "execution_count": 22,
      "outputs": [
        {
          "output_type": "execute_result",
          "data": {
            "text/plain": [
              "10000"
            ]
          },
          "metadata": {
            "tags": []
          },
          "execution_count": 22
        }
      ]
    },
    {
      "metadata": {
        "id": "aYoCA76RQWRm",
        "colab_type": "code",
        "colab": {
          "base_uri": "https://localhost:8080/",
          "height": 34
        },
        "outputId": "891cc264-93e8-41e3-c310-14f3399d0e59"
      },
      "cell_type": "code",
      "source": [
        "np.shape(test_labels)"
      ],
      "execution_count": 23,
      "outputs": [
        {
          "output_type": "execute_result",
          "data": {
            "text/plain": [
              "(5, 10000, 11)"
            ]
          },
          "metadata": {
            "tags": []
          },
          "execution_count": 23
        }
      ]
    },
    {
      "metadata": {
        "id": "k8gkvmbWLoY1",
        "colab_type": "text"
      },
      "cell_type": "markdown",
      "source": [
        "## Calculate Accuracy\n",
        "Custom accuracy calculation for individual digits and the whole sequence."
      ]
    },
    {
      "metadata": {
        "id": "UHb7NM2sQZ3U",
        "colab_type": "code",
        "colab": {}
      },
      "cell_type": "code",
      "source": [
        "def calculate_acc(predictions,real_labels):\n",
        "    \n",
        "    individual_counter = 0\n",
        "    global_sequence_counter = 0\n",
        "    for i in range(0,len(predictions[0])):\n",
        "        # Reset sequence counter at the start of each image\n",
        "        sequence_counter = 0 \n",
        "        \n",
        "        for j in range(0,5):\n",
        "            if np.argmax(predictions[j][i]) == np.argmax(real_labels[j][i]):\n",
        "                individual_counter += 1\n",
        "                sequence_counter += 1\n",
        "        \n",
        "        if sequence_counter == 5:\n",
        "            global_sequence_counter += 1\n",
        "         \n",
        "    ind_accuracy = individual_counter/50000.0\n",
        "    global_accuracy = global_sequence_counter/10000.0\n",
        "    \n",
        "    return ind_accuracy,global_accuracy"
      ],
      "execution_count": 0,
      "outputs": []
    },
    {
      "metadata": {
        "id": "LZSUiAerQ7tq",
        "colab_type": "code",
        "colab": {}
      },
      "cell_type": "code",
      "source": [
        "ind_acc, glob_acc = calculate_acc(predictions, test_labels)"
      ],
      "execution_count": 0,
      "outputs": []
    },
    {
      "metadata": {
        "id": "_I57NhTmRu2P",
        "colab_type": "code",
        "colab": {
          "base_uri": "https://localhost:8080/",
          "height": 51
        },
        "outputId": "f059335c-d463-47bb-dd83-16c4ec672847"
      },
      "cell_type": "code",
      "source": [
        "print(\"The individual accuracy is {} %\".format(ind_acc * 100))\n",
        "print(\"The sequence prediction accuracy is {} %\".format(glob_acc * 100))"
      ],
      "execution_count": 26,
      "outputs": [
        {
          "output_type": "stream",
          "text": [
            "The individual accuracy is 98.472 %\n",
            "The sequence prediction accuracy is 92.62 %\n"
          ],
          "name": "stdout"
        }
      ]
    },
    {
      "metadata": {
        "id": "TI7q72qiR49W",
        "colab_type": "code",
        "colab": {
          "base_uri": "https://localhost:8080/",
          "height": 272
        },
        "outputId": "ef3ed648-7ba9-4b87-95d7-b4b839144956"
      },
      "cell_type": "code",
      "source": [
        "# Printing some examples of real and predicted labels\n",
        "for i in random.sample(range(0,10000),5):\n",
        "    \n",
        "    actual_labels = []\n",
        "    predicted_labels = []\n",
        "    \n",
        "    for j in range(0,5):\n",
        "        actual_labels.append(np.argmax(test_labels[j][i]))\n",
        "        predicted_labels.append(np.argmax(predictions[j][i]))\n",
        "        \n",
        "    print(\"Actual labels: {}\".format(actual_labels))\n",
        "    print(\"Predicted labels: {}\\n\".format(predicted_labels))"
      ],
      "execution_count": 27,
      "outputs": [
        {
          "output_type": "stream",
          "text": [
            "Actual labels: [4, 7, 10, 10, 10]\n",
            "Predicted labels: [4, 7, 10, 10, 10]\n",
            "\n",
            "Actual labels: [7, 5, 10, 10, 10]\n",
            "Predicted labels: [7, 5, 10, 10, 10]\n",
            "\n",
            "Actual labels: [2, 0, 8, 8, 7]\n",
            "Predicted labels: [2, 0, 8, 8, 7]\n",
            "\n",
            "Actual labels: [6, 8, 8, 3, 10]\n",
            "Predicted labels: [6, 8, 8, 3, 10]\n",
            "\n",
            "Actual labels: [3, 4, 1, 8, 6]\n",
            "Predicted labels: [3, 4, 1, 8, 6]\n",
            "\n"
          ],
          "name": "stdout"
        }
      ]
    },
    {
      "metadata": {
        "id": "6BAwhIZqSZG8",
        "colab_type": "text"
      },
      "cell_type": "markdown",
      "source": [
        "Source: https://sajalsharma.com/portfolio/digit_sequence_recognition"
      ]
    },
    {
      "metadata": {
        "id": "W5DAKHvTpQ-B",
        "colab_type": "text"
      },
      "cell_type": "markdown",
      "source": [
        "## Visualize Data\n",
        "Check the distribution of the labels to see what kind of data the MNIST dataset contains."
      ]
    },
    {
      "metadata": {
        "id": "EHd2PnBvZ524",
        "colab_type": "code",
        "colab": {
          "base_uri": "https://localhost:8080/",
          "height": 193
        },
        "outputId": "ee4a4523-03d1-40fd-f266-28bb294f4071"
      },
      "cell_type": "code",
      "source": [
        "from collections import Counter\n",
        "\n",
        "flat_test = [item for sublist in y_synth_test for item in sublist]\n",
        "flat_train = [item for sublist in y_synth_train for item in sublist]\n",
        "\n",
        "\n",
        "train_num_length = Counter(flat_train)\n",
        "test_num_length = Counter(flat_test)\n",
        "\n",
        "plt.figure()\n",
        "\n",
        "plt.subplot(251)\n",
        "plt.bar(train_num_length.keys(), train_num_length.values(), align='center')\n",
        "plt.xticks(train_num_length.keys())\n",
        "plt.title('Train')\n",
        "plt.xlabel('Length')\n",
        "\n",
        "plt.subplot(253)\n",
        "plt.bar(test_num_length.keys(), test_num_length.values(), align='center')\n",
        "plt.xticks(test_num_length.keys())\n",
        "plt.title('Test')\n",
        "plt.xlabel('Length')"
      ],
      "execution_count": 50,
      "outputs": [
        {
          "output_type": "execute_result",
          "data": {
            "text/plain": [
              "Text(0.5,0,u'Length')"
            ]
          },
          "metadata": {
            "tags": []
          },
          "execution_count": 50
        },
        {
          "output_type": "display_data",
          "data": {
            "image/png": "[encoded data removed]",
            "text/plain": [
              "<matplotlib.figure.Figure at 0x7f2bacda4d90>"
            ]
          },
          "metadata": {
            "tags": []
          }
        }
      ]
    },
    {
      "metadata": {
        "id": "e0cjub4Vi-j8",
        "colab_type": "code",
        "colab": {
          "base_uri": "https://localhost:8080/",
          "height": 366
        },
        "outputId": "4627f66f-f3d4-472c-e200-440df40aa845"
      },
      "cell_type": "code",
      "source": [
        "flat_test_reduced = []\n",
        "flat_train_reduced = []\n",
        "for sublist in y_synth_test:\n",
        "    for item in sublist:\n",
        "      if item is not 10:\n",
        "        flat_test_reduced.append(item)\n",
        "        \n",
        "for sublist in y_synth_train:\n",
        "    for item in sublist:\n",
        "      if item is not 10:\n",
        "        flat_train_reduced.append(item)\n",
        "        \n",
        "\n",
        "\n",
        "train_num_length_reduced = Counter(flat_train_reduced)\n",
        "test_num_length_reduced = Counter(flat_test_reduced)\n",
        "\n",
        "f, (ax1, ax2) = plt.subplots(1, 2, figsize=(20, 5))\n",
        "\n",
        "\n",
        "ax1.bar(train_num_length_reduced.keys(), train_num_length_reduced.values(), align='center')\n",
        "ax1.set_xticks(train_num_length_reduced.keys())\n",
        "ax1.set_title('Train')\n",
        "ax1.set_xlabel('Length')\n",
        "\n",
        "ax2.bar(test_num_length_reduced.keys(), test_num_length_reduced.values(), align='center')\n",
        "ax2.set_xticks(test_num_length_reduced.keys())\n",
        "ax2.set_title('Test')\n",
        "ax2.set_xlabel('Length')"
      ],
      "execution_count": 53,
      "outputs": [
        {
          "output_type": "execute_result",
          "data": {
            "text/plain": [
              "Text(0.5,0,u'Length')"
            ]
          },
          "metadata": {
            "tags": []
          },
          "execution_count": 53
        },
        {
          "output_type": "display_data",
          "data": {
            "image/png": "[encoded data removed]",
            "text/plain": [
              "<matplotlib.figure.Figure at 0x7f2bacd8c690>"
            ]
          },
          "metadata": {
            "tags": []
          }
        }
      ]
    }
  ]
}